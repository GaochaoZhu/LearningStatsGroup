{
 "cells": [
  {
   "cell_type": "code",
   "execution_count": 1,
   "metadata": {},
   "outputs": [],
   "source": [
    "import numpy as np\n",
    "from scipy import stats\n",
    "import matplotlib.pyplot as plt\n",
    "import pandas as pd\n",
    "import seaborn as sns"
   ]
  },
  {
   "cell_type": "markdown",
   "metadata": {},
   "source": [
    "# Week4: 概率分布\n",
    "- 度量事件的等可能性\n",
    "- 随机变量的概率分布\n",
    "- 样本统计量的概率分布\n",
    "\n",
    "# 度量事件的等可能性\n",
    "\n",
    "对事件发生的可能性大小的度量就是**概率**。概率是介于0-1之间的一个值，是对某件事件发生的可能性大小的一种数值度量。\n",
    "\n",
    "如果事件是**等可能发生**的，可以通过**重复**试验来获得事件的概率。当试验次数很多时，事件A发生的概率P(A)可以由所观测到的事件A发生的频率p来逼近。\n",
    "\n",
    "假设相同条件下，重复进行n次试验，事件A发生了m次，则事件A发生的概率表示为：\n",
    "$$\n",
    "P(A)=\\frac{m}{n}=p\n",
    "$$\n",
    "\n",
    "## 大数定律\n",
    "随着试验次数n增大，比值$\\frac{m}{n}$将围绕某一频率上下波动，并且波动幅度将随试验次数n增大而减小.\n",
    "\n",
    "# 随机变量\n",
    "随机变量时用数值来描述特定试验的一切可能出现的结果，它的取值事先不能确定，具有随机性。有些随机变量只能取有限个值，是**离散型随机变量**；有些可以取一个或多个区间中的任何值，是**连续型随机变量**。\n",
    "\n",
    "## 随机变量的概括性度量\n",
    "\n",
    "描述随机变量**集中程度**的统计量为**期望值(expected value)**，描述其**离散程度**的统计量为**方差**。\n",
    "\n",
    "离散型随机变量的期望计算：\n",
    "\n",
    "$$\n",
    "\\mu=E(X)=\\sum_{i}x_i p_i\n",
    "$$\n",
    "\n",
    "连续型随机变量的期望计算：\n",
    "$$\n",
    "\\mu=E(X)=\\int^{\\infty}_{-\\infty} xf(x)dx\n",
    "$$\n",
    "\n",
    "\n",
    "离散型随机变量方差计算\n",
    "$$\n",
    "\\sigma^2=D(X)=\\sum_i(x_i-\\mu)^2p_i\n",
    "$$\n",
    "\n",
    "\n",
    "\n",
    "连续型随机变量的方差计算：\n",
    "$$\n",
    "\\sigma^2=D(X)=\\int^{\\infty}_{-\\infty}(x-\\mu)^2f(x)dx\n",
    "$$\n",
    "\n",
    "## 随机变量4F(Functions)\n",
    "\n",
    "- PMF\n",
    "- PDF\n",
    "- CDF\n",
    "\n",
    "### PMF\n",
    "\n",
    "概率质量函数（probability mass function), 在概率论中，概率质量函数是**离散随机变量**在各特定取值上的概率\n",
    "\n",
    "类似于\n",
    "$$\n",
    "P(X=x)\n",
    "$$\n",
    "\n",
    "### PDF\n",
    "概率密度函数（probability density function）, 连续型随机变量的概率密度函数是一个描述某个确定的取值点附近的可能性的函数。\n",
    "\n",
    "### CDF\n",
    "累积分布函数 (cumulative distribution function)，是概率密度函数的积分，能完整描述一个实随机变量X的概率分布。\n",
    "\n",
    "类似于\n",
    "$$\n",
    "P(X<x)=F(x)\n",
    "$$\n",
    "\n",
    "### PPF\n",
    "\n",
    "**Percent Point Function(PPF)** 是CDF的反函数,即**累积分布的反函数**。当已知概率p，需要求出能够得到这个概率p的随机变量x，这时候就要用到PPF啦:\n",
    "$$\n",
    "F^{-1}(p)=x\n",
    "$$\n",
    "\n",
    "[参考](https://www.statisticshowto.datasciencecentral.com/inverse-distribution-function/)\n",
    "\n",
    "## 离散型概率分布\n",
    "\n",
    "离散型随机变量X只取有限个可能值$x_1,x_2,\\dots,$，而且是以**确定**概率取这些值，即\n",
    "$$\n",
    "P(X=x_i)=p_i(i=1,2,...)\n",
    "$$\n",
    "离散型概率分布性质：\n",
    "- $p_i\\ge0$\n",
    "- $\\sum_i p_i =1 (i=1,2,\\dots)$\n",
    "\n",
    "\n",
    "### 二项分布\n",
    "\n",
    "n重伯努利试验条件：\n",
    "\n",
    "- 一次试验只有**两个**可能结果，即'成功'和'失败'\n",
    "- 一次试验'成功'的概率为p，'失败'概率为1-p，且概率每次试验都相同\n",
    "- 试验相互独立，且可以重复进行n次\n",
    "\n",
    "在n次试验中，'成功'的次数对应一个离散型随机变量X，出现'成功'的次数的概率分布就是**二项分布**，记为$X~B(n,p)$.n次试验中成功次数为x的概率可以表示为：\n",
    "$$\n",
    "P(X=x)=\\begin{pmatrix}\n",
    "n \\\\\n",
    "x\n",
    "\\end{pmatrix}\n",
    "p^x(1-p)^{n-x}, x=0,1,2,\\dots,n\n",
    "$$\n",
    "\n",
    "\n",
    "二项分布的期望:\n",
    "$$\n",
    "\\mu=E(X)=np\n",
    "$$\n",
    "方差\n",
    "$$\n",
    "\\sigma^2=D(X)=np(1-p)\n",
    "$$\n",
    "\n",
    "### scipy计算二项分布\n"
   ]
  },
  {
   "cell_type": "markdown",
   "metadata": {},
   "source": []
  },
  {
   "cell_type": "code",
   "execution_count": 27,
   "metadata": {},
   "outputs": [
    {
     "name": "stdout",
     "output_type": "stream",
     "text": [
      "0.8153726976\n",
      "0.16986931199999997\n",
      "0.9999876096\n"
     ]
    }
   ],
   "source": [
    "print(stats.binom.pmf(0,5,0.04)) # P(X=0)\n",
    "print(stats.binom.pmf(1,5,0.04)) # P(X=1)\n",
    "print(stats.binom.cdf(3,5,0.04)) # P(X<3)"
   ]
  },
  {
   "cell_type": "markdown",
   "metadata": {
    "slideshow": {
     "slide_type": "slide"
    }
   },
   "source": [
    "### 泊松分布\n",
    "\n",
    "泊松分布用于**一定时间或一定空间区域内某一事件出现的次数**。比如，一定时间内，航空公司接到的电话数；一定时间内，到站电车的等候人数。记为$X~P(\\lambda)$. 对于$X=x$有：\n",
    "\n",
    "$$\n",
    "P(X=x)=\\frac{\\lambda^x e^{-\\lambda}}{x!}\n",
    "$$\n",
    "\n",
    "- $\\lambda$: 一定区间单位内随机变量X的均值\n",
    "\n",
    "#### scipy计算泊松分布\n",
    "```py\n",
    "poisson=stats.poisson(mu)\n",
    "poisson.pmf(x)\n",
    "poisson.pdf(x)\n",
    "```\n",
    "1. 在`stats.poisson(mu)`中指定$\\lambda$值\n",
    "2. `pmf(x)`计算$P(X=x)$"
   ]
  },
  {
   "cell_type": "code",
   "execution_count": 11,
   "metadata": {},
   "outputs": [
    {
     "data": {
      "text/plain": [
       "0.14900277967433773"
      ]
     },
     "execution_count": 11,
     "metadata": {},
     "output_type": "execute_result"
    }
   ],
   "source": [
    "'''\n",
    "假定航空公司每小时接到42次订票电话，那么10分钟内恰好接到6次电话的概率是\n",
    "'''\n",
    "# mu is the lambda above\n",
    "mu=7 # mu=10/60*42\n",
    "poisson=stats.poisson(mu)\n",
    "poisson.pmf(6)"
   ]
  },
  {
   "cell_type": "markdown",
   "metadata": {},
   "source": [
    "### 超几何分布\n",
    "\n",
    "如果采用**不重复抽样**，各次试验并不独立，成功的概率也不相等，而且总体元素的数目N很小或样本n相对于N来说较大，这时，样本中“成功”的次数则服从**超几何分布**，记作$X~H(n,N,M)$. 对于$X=x$有\n",
    "$$\n",
    "P(X=x)=\n",
    "\\frac{\n",
    "\\begin{pmatrix}\n",
    "M \\\\ x\n",
    "\\end{pmatrix}\n",
    "\\begin{pmatrix}\n",
    "N-M \\\\\n",
    "n-x\n",
    "\\end{pmatrix}\n",
    "}\n",
    "{\n",
    "\\begin{pmatrix}\n",
    "N \\\\\n",
    "n\n",
    "\\end{pmatrix}\n",
    "}\n",
    "$$\n",
    "其中$x=0,1,\\dots,l \\ \\ l \\in min(M,n)$; n为试验次数，N为总体元素个数，M为总体中代表成功的个数\n",
    "\n",
    "#### scipy计算超几何分布\n",
    "```py\n",
    "rv=stats.hypergeom(N,n,M)\n",
    "```\n",
    "- `N`:总体个数\n",
    "- `n`:样本个数\n",
    "- `M`:成功个数"
   ]
  },
  {
   "cell_type": "code",
   "execution_count": 28,
   "metadata": {},
   "outputs": [
    {
     "name": "stdout",
     "output_type": "stream",
     "text": [
      "0.03333333333333332\n",
      "0.33333333333333404\n"
     ]
    }
   ],
   "source": [
    "n=4 # 样本\n",
    "M=3 # 成功个数\n",
    "N=10 # 总体个数\n",
    "\n",
    "rv=stats.hypergeom(N,n,M)\n",
    "print(rv.pmf(3)) # P(X=3)\n",
    "print(1-rv.cdf(1)) # P(X>=2)"
   ]
  },
  {
   "cell_type": "markdown",
   "metadata": {},
   "source": [
    "## 连续型概率分布\n",
    "\n",
    "### 正态分布\n",
    "\n",
    "若随机变量X服从正态分布，记为$X ~ N(\\mu,\\sigma^2)$\n"
   ]
  },
  {
   "cell_type": "code",
   "execution_count": 18,
   "metadata": {},
   "outputs": [
    {
     "data": {
      "text/plain": [
       "<matplotlib.legend.Legend at 0x139e1830048>"
      ]
     },
     "execution_count": 18,
     "metadata": {},
     "output_type": "execute_result"
    },
    {
     "data": {
      "image/png": "[encoded data removed]",
      "text/plain": [
       "<Figure size 432x288 with 1 Axes>"
      ]
     },
     "metadata": {
      "needs_background": "light"
     },
     "output_type": "display_data"
    }
   ],
   "source": [
    "x=np.linspace(stats.norm.ppf(.01),stats.norm.ppf(.99),1000)\n",
    "x1=np.linspace(stats.norm.ppf(.01,1,1),stats.norm.ppf(.99,1,1),1000)\n",
    "\n",
    "plt.plot(x,stats.norm.pdf(x),label='$\\mu=0$')\n",
    "plt.plot(x1,stats.norm.pdf(x),label='$\\mu=1$')\n",
    "plt.legend()"
   ]
  },
  {
   "cell_type": "markdown",
   "metadata": {},
   "source": [
    "#### scipy计算正态分布\n",
    "\n",
    "计算累积分布函数\n",
    "\n",
    "`norm.cdf(x,mu,sigma)`\n",
    "- `mu`: 均值\n",
    "-`sigma`: 标准差"
   ]
  },
  {
   "cell_type": "code",
   "execution_count": 21,
   "metadata": {},
   "outputs": [
    {
     "name": "stdout",
     "output_type": "stream",
     "text": [
      "0.15865525393145707\n",
      "0.13590512198327787\n"
     ]
    }
   ],
   "source": [
    "# mu=50, sigma=10\n",
    "# P(X<=40)\n",
    "print(stats.norm.cdf(40,50,10))\n",
    "# 求P(30<=X<=40)\n",
    "print(stats.norm.cdf(40,50,10)-stats.norm.cdf(30,50,10))"
   ]
  },
  {
   "cell_type": "code",
   "execution_count": 27,
   "metadata": {},
   "outputs": [
    {
     "name": "stdout",
     "output_type": "stream",
     "text": [
      "0.9937903346742238\n",
      "0.9104426667829627\n"
     ]
    }
   ],
   "source": [
    "# mu=0, sigma=1\n",
    "# P(Z<=2.5)\n",
    "print(stats.norm.cdf(2.5,0,1))\n",
    "# p(-1.5<=Z<=2)\n",
    "print(stats.norm.cdf(2)-stats.norm.cdf(-1.5))"
   ]
  },
  {
   "cell_type": "markdown",
   "metadata": {},
   "source": [
    "计算正态分布累积分布函数的反函数\n",
    "\n",
    "`norm.ppf(x,mu,sigma)`\n",
    "\n",
    "当概率p已知，而我们想求能得到这个概率的x，需要计算CDF的反函数PPF"
   ]
  },
  {
   "cell_type": "code",
   "execution_count": 28,
   "metadata": {},
   "outputs": [
    {
     "data": {
      "text/plain": [
       "-1.6448536269514729"
      ]
     },
     "execution_count": 28,
     "metadata": {},
     "output_type": "execute_result"
    }
   ],
   "source": [
    "stats.norm .ppf(.05)"
   ]
  },
  {
   "cell_type": "markdown",
   "metadata": {},
   "source": [
    "### t分布\n",
    "t表示样本均值经标准化后的新随机变量。随着自由度增大，t分布趋于正态分布"
   ]
  },
  {
   "cell_type": "code",
   "execution_count": 43,
   "metadata": {},
   "outputs": [
    {
     "data": {
      "text/plain": [
       "<matplotlib.legend.Legend at 0x139e58d83c8>"
      ]
     },
     "execution_count": 43,
     "metadata": {},
     "output_type": "execute_result"
    },
    {
     "data": {
      "image/png": "[encoded data removed]",
      "text/plain": [
       "<Figure size 432x288 with 1 Axes>"
      ]
     },
     "metadata": {
      "needs_background": "light"
     },
     "output_type": "display_data"
    }
   ],
   "source": [
    "dfs=[5,50]\n",
    "for df in dfs:\n",
    "    x=np.linspace(stats.t.ppf(.01,df=df),stats.t.ppf(.99,df=df),1000)\n",
    "    plt.plot(x,stats.t.pdf(x,df=df), label=f'df={df}')\n",
    "plt.legend()"
   ]
  },
  {
   "cell_type": "markdown",
   "metadata": {},
   "source": [
    "当正态总体未知，小样本条件下对总体均值的估计和检验要用t分布。t分布的概率为曲线下面积"
   ]
  },
  {
   "cell_type": "markdown",
   "metadata": {},
   "source": [
    "### $\\chi^2$分布\n",
    "\n",
    "$\\chi^2$分布式n个独立正态变量的平方和分布(n个自由度)，记为$\\chi^2(n)$。\n",
    "\n",
    "设总体服从一般正态分布，则\n",
    "$$\n",
    "Z=\\frac{X-\\mu}{\\sigma}~N(0,1)\n",
    "$$\n",
    "令$Y=Z^2$，则Y服从自由度为1的$\\chi^2$分布，即$Y~\\chi^2(1)$。对于n个独立变量$Y_i$，随机变量$Y=\\sum_{i=1}^n Y_i^2$的分布具有n个自由度的$\\chi^2$分布，记为$Y~\\chi^2(n)$\n",
    "\n",
    "$\\chi^2$分布具有如下特点：\n",
    "- 变量始终为正\n",
    "- 形状取决于其自由度大小，通常形状为不对称的右偏分布,但随自由度增大逐渐趋于对称\n",
    "- 期望值$E(\\chi^2)=n$, 方差$D(X)=2n$，n为自由度\n",
    "- 可加性。U+V~$\\chi^2(n_1)+\\chi^2(n_2)$\n",
    "\n",
    "#### scipy实现$\\chi^2$分布\n"
   ]
  },
  {
   "cell_type": "code",
   "execution_count": 16,
   "metadata": {},
   "outputs": [
    {
     "data": {
      "text/plain": [
       "<matplotlib.legend.Legend at 0x1c800a06fc8>"
      ]
     },
     "execution_count": 16,
     "metadata": {},
     "output_type": "execute_result"
    },
    {
     "data": {
      "image/png": "[encoded data removed]",
      "text/plain": [
       "<Figure size 432x288 with 1 Axes>"
      ]
     },
     "metadata": {
      "needs_background": "light"
     },
     "output_type": "display_data"
    }
   ],
   "source": [
    "dfs=[10,20,30]\n",
    "for n in dfs:\n",
    "    x=np.linspace(stats.chi2.ppf(.01,n),stats.chi2.ppf(.99,n),1000)\n",
    "    plt.plot(x,stats.chi2.pdf(x,df=n),label=f'n={n}')\n",
    "    \n",
    "plt.legend()"
   ]
  },
  {
   "cell_type": "markdown",
   "metadata": {},
   "source": [
    "#### scipy计算$\\chi^2$分布"
   ]
  },
  {
   "cell_type": "code",
   "execution_count": 22,
   "metadata": {},
   "outputs": [
    {
     "name": "stdout",
     "output_type": "stream",
     "text": [
      "0.2650259152973615\n",
      "18.307038053275146\n"
     ]
    }
   ],
   "source": [
    "# n=8, chi2>=10\n",
    "print(1-stats.chi2.cdf(10,8))\n",
    "\n",
    "# n=10, 右尾概率为.05反函数值\n",
    "print(stats.chi2.ppf(1-.05,10))"
   ]
  },
  {
   "cell_type": "markdown",
   "metadata": {},
   "source": [
    "### F分布\n",
    "F分布是两个$\\chi^2$之比。设U~$\\chi^2(n_1)$, V~$\\chi^2(n_2)$,U和V相互独立，则F=$\\frac{U/n_1}{V/n_2}$,记为F~$F(n_1,n_2)$\n",
    "\n",
    "F分布用于比较不同总体的方差是否有显著差异，其概率为曲线下的面积\n",
    "\n",
    "### scipy实现F分布"
   ]
  },
  {
   "cell_type": "code",
   "execution_count": 28,
   "metadata": {},
   "outputs": [
    {
     "data": {
      "text/plain": [
       "<matplotlib.legend.Legend at 0x1c801b48a08>"
      ]
     },
     "execution_count": 28,
     "metadata": {},
     "output_type": "execute_result"
    },
    {
     "data": {
      "image/png": "[encoded data removed]",
      "text/plain": [
       "<Figure size 432x288 with 1 Axes>"
      ]
     },
     "metadata": {
      "needs_background": "light"
     },
     "output_type": "display_data"
    }
   ],
   "source": [
    "n1=[3,5,40]\n",
    "n2=[5,15,25]\n",
    "for dfn,dfd in zip(n1,n2):\n",
    "    x=np.linspace(stats.f.ppf(.01,dfn,dfd),stats.f.ppf(.99,dfn,dfd))\n",
    "    plt.plot(x,stats.f.pdf(x,dfn,dfd),label=f'$n_1={dfn}, n_2={dfd}$')\n",
    "plt.legend()"
   ]
  },
  {
   "cell_type": "markdown",
   "metadata": {},
   "source": [
    "#### scipy计算F分布\n"
   ]
  },
  {
   "cell_type": "code",
   "execution_count": 33,
   "metadata": {},
   "outputs": [
    {
     "name": "stdout",
     "output_type": "stream",
     "text": [
      "0.06645086271211254\n",
      "3.3471631202339784\n"
     ]
    }
   ],
   "source": [
    "# n1=10, n2=8 P(F>=3)\n",
    "print(1-stats.f.cdf(3,10,8))\n",
    "\n",
    "# F分布的右尾概率为0.05的F值\n",
    "print(stats.f.ppf(1-.05,10,8))"
   ]
  },
  {
   "cell_type": "markdown",
   "metadata": {},
   "source": [
    "# 样本统计量的概率分布\n",
    "\n",
    "## 统计量\n",
    "\n",
    "- **参数**: 对总体某个特征的概括性度量\n",
    "- **估计量**: 根据样本某个特征的概括性度量\n",
    "\n",
    "推断统计：样本估计量推断总体参数(均值等)\n",
    "\n",
    "### 统计量的概率分布\n",
    "\n",
    "样本统计量的概率分布称为**抽样分布**，由样本统计量的所有可能取值形成的相对频数分布。\n",
    "\n",
    "## 中心极限定理\n",
    "\n",
    "样本均值的分布与抽样分布所依据的总体分布和样本量n的大小有关。如果总体是正态分布，则无论样本量大小，**样本均值**的分布都近似于正态分布。\n",
    "\n",
    "如果总体不是正态分布，如果样本量$n\\ge30$，样本均值的概率分布都趋于正态分布"
   ]
  },
  {
   "cell_type": "code",
   "execution_count": null,
   "metadata": {},
   "outputs": [],
   "source": []
  }
 ],
 "metadata": {
  "kernelspec": {
   "display_name": "Python 3",
   "language": "python",
   "name": "python3"
  },
  "language_info": {
   "codemirror_mode": {
    "name": "ipython",
    "version": 3
   },
   "file_extension": ".py",
   "mimetype": "text/x-python",
   "name": "python",
   "nbconvert_exporter": "python",
   "pygments_lexer": "ipython3",
   "version": "3.7.4"
  }
 },
 "nbformat": 4,
 "nbformat_minor": 4
}
