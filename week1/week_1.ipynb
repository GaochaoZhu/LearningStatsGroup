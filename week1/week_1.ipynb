{
 "cells": [
  {
   "cell_type": "markdown",
   "metadata": {},
   "source": [
    "# Week 1 数据整理与可视化\n",
    "\n",
    "# 目录\n",
    "\n",
    "- 数据预处理\n",
    "    - 审核\n",
    "    - 筛选\n",
    "    - 排序\n",
    "    - 数据透视表\n",
    "- 品质数据的整理与展示\n",
    "    - 分类数据\n",
    "    - 顺序数据\n",
    "- 数值型数据的整理与展示"
   ]
  },
  {
   "cell_type": "code",
   "execution_count": 1,
   "metadata": {},
   "outputs": [],
   "source": [
    "# 导入常用包\n",
    "import pandas as pd \n",
    "import numpy as np\n",
    "import matplotlib.pyplot as plt \n",
    "\n",
    "import seaborn as sns\n",
    "sns.set()\n",
    "plt.rcParams['font.sans-serif'] = ['SimHei'] #用来正常显示中文标签\n",
    "plt.rcParams['axes.unicode_minus'] = False #用来正常显示负号\n",
    "\n"
   ]
  },
  {
   "cell_type": "markdown",
   "metadata": {},
   "source": [
    "# 数据预处理\n",
    "- 审核\n",
    "- 筛选\n",
    "- 排序\n",
    "- 数据透视表\n",
    "\n",
    "## 审核\n",
    "\n",
    "### 原始数据(raw data)\n",
    "\n",
    "1. 完整性审核\n",
    "- 调查单位或个体是否存在遗漏(数据框中的'行'是否少了)\n",
    "- 所调查项目或变量是否存在遗漏(数据框中的'列'是否少了)\n",
    "\n",
    "2. 准确性审核\n",
    "- 是否反映真实情况\n",
    "- 是否有错误\n",
    "\n",
    "### 二手数据(second-hand data)\n",
    "1. 适用性\n",
    "- 数据来源、口径和相关背景资料\n",
    "- 符合需求\n",
    "2. 时效性审核\n",
    "- 使用最新数据\n",
    "3. 是否需要进一步加工整理\n",
    "\n",
    "## 筛选\n",
    "\n",
    "当数据错误无法纠正或符合要求而无法弥补，则需要筛选\n",
    "\n",
    "- 剔除不符合要求的数据\n",
    "- 按某种特定条件筛选"
   ]
  },
  {
   "cell_type": "markdown",
   "metadata": {},
   "source": [
    "### pandas实现数据筛选\n",
    "`df.loc[condition,['column_name']]`"
   ]
  },
  {
   "cell_type": "code",
   "execution_count": 2,
   "metadata": {},
   "outputs": [
    {
     "data": {
      "text/html": [
       "<div>\n",
       "<style scoped>\n",
       "    .dataframe tbody tr th:only-of-type {\n",
       "        vertical-align: middle;\n",
       "    }\n",
       "\n",
       "    .dataframe tbody tr th {\n",
       "        vertical-align: top;\n",
       "    }\n",
       "\n",
       "    .dataframe thead th {\n",
       "        text-align: right;\n",
       "    }\n",
       "</style>\n",
       "<table border=\"1\" class=\"dataframe\">\n",
       "  <thead>\n",
       "    <tr style=\"text-align: right;\">\n",
       "      <th></th>\n",
       "      <th>姓名</th>\n",
       "      <th>统计学成绩</th>\n",
       "      <th>数学成绩</th>\n",
       "      <th>英语成绩</th>\n",
       "      <th>经济学成绩</th>\n",
       "    </tr>\n",
       "  </thead>\n",
       "  <tbody>\n",
       "    <tr>\n",
       "      <td>0</td>\n",
       "      <td>张松</td>\n",
       "      <td>69</td>\n",
       "      <td>68</td>\n",
       "      <td>84</td>\n",
       "      <td>86</td>\n",
       "    </tr>\n",
       "    <tr>\n",
       "      <td>1</td>\n",
       "      <td>王翔</td>\n",
       "      <td>91</td>\n",
       "      <td>75</td>\n",
       "      <td>95</td>\n",
       "      <td>94</td>\n",
       "    </tr>\n",
       "    <tr>\n",
       "      <td>2</td>\n",
       "      <td>田雨</td>\n",
       "      <td>54</td>\n",
       "      <td>88</td>\n",
       "      <td>67</td>\n",
       "      <td>78</td>\n",
       "    </tr>\n",
       "    <tr>\n",
       "      <td>3</td>\n",
       "      <td>李华</td>\n",
       "      <td>81</td>\n",
       "      <td>60</td>\n",
       "      <td>86</td>\n",
       "      <td>64</td>\n",
       "    </tr>\n",
       "    <tr>\n",
       "      <td>4</td>\n",
       "      <td>赵颖</td>\n",
       "      <td>75</td>\n",
       "      <td>96</td>\n",
       "      <td>81</td>\n",
       "      <td>83</td>\n",
       "    </tr>\n",
       "    <tr>\n",
       "      <td>5</td>\n",
       "      <td>宋媛</td>\n",
       "      <td>83</td>\n",
       "      <td>72</td>\n",
       "      <td>66</td>\n",
       "      <td>71</td>\n",
       "    </tr>\n",
       "    <tr>\n",
       "      <td>6</td>\n",
       "      <td>袁方</td>\n",
       "      <td>75</td>\n",
       "      <td>58</td>\n",
       "      <td>76</td>\n",
       "      <td>90</td>\n",
       "    </tr>\n",
       "    <tr>\n",
       "      <td>7</td>\n",
       "      <td>陈风</td>\n",
       "      <td>87</td>\n",
       "      <td>76</td>\n",
       "      <td>92</td>\n",
       "      <td>77</td>\n",
       "    </tr>\n",
       "  </tbody>\n",
       "</table>\n",
       "</div>"
      ],
      "text/plain": [
       "   姓名  统计学成绩  数学成绩  英语成绩  经济学成绩\n",
       "0  张松     69    68    84     86\n",
       "1  王翔     91    75    95     94\n",
       "2  田雨     54    88    67     78\n",
       "3  李华     81    60    86     64\n",
       "4  赵颖     75    96    81     83\n",
       "5  宋媛     83    72    66     71\n",
       "6  袁方     75    58    76     90\n",
       "7  陈风     87    76    92     77"
      ]
     },
     "execution_count": 2,
     "metadata": {},
     "output_type": "execute_result"
    }
   ],
   "source": [
    "# 读取 例3.1\n",
    "df3_1=pd.read_excel('例题数据/例3.1.xlsx')\n",
    "df3_1"
   ]
  },
  {
   "cell_type": "code",
   "execution_count": 7,
   "metadata": {},
   "outputs": [
    {
     "data": {
      "text/html": [
       "<div>\n",
       "<style scoped>\n",
       "    .dataframe tbody tr th:only-of-type {\n",
       "        vertical-align: middle;\n",
       "    }\n",
       "\n",
       "    .dataframe tbody tr th {\n",
       "        vertical-align: top;\n",
       "    }\n",
       "\n",
       "    .dataframe thead th {\n",
       "        text-align: right;\n",
       "    }\n",
       "</style>\n",
       "<table border=\"1\" class=\"dataframe\">\n",
       "  <thead>\n",
       "    <tr style=\"text-align: right;\">\n",
       "      <th></th>\n",
       "      <th>姓名</th>\n",
       "      <th>统计学成绩</th>\n",
       "    </tr>\n",
       "  </thead>\n",
       "  <tbody>\n",
       "    <tr>\n",
       "      <td>1</td>\n",
       "      <td>王翔</td>\n",
       "      <td>91</td>\n",
       "    </tr>\n",
       "    <tr>\n",
       "      <td>7</td>\n",
       "      <td>陈风</td>\n",
       "      <td>87</td>\n",
       "    </tr>\n",
       "    <tr>\n",
       "      <td>5</td>\n",
       "      <td>宋媛</td>\n",
       "      <td>83</td>\n",
       "    </tr>\n",
       "    <tr>\n",
       "      <td>3</td>\n",
       "      <td>李华</td>\n",
       "      <td>81</td>\n",
       "    </tr>\n",
       "  </tbody>\n",
       "</table>\n",
       "</div>"
      ],
      "text/plain": [
       "   姓名  统计学成绩\n",
       "1  王翔     91\n",
       "7  陈风     87\n",
       "5  宋媛     83\n",
       "3  李华     81"
      ]
     },
     "execution_count": 7,
     "metadata": {},
     "output_type": "execute_result"
    }
   ],
   "source": [
    "# 筛选'统计学成绩'前4名学生的'姓名'和'统计学成绩'\n",
    "df3_1.loc[df3_1['统计学成绩'].nlargest(4).index,['姓名','统计学成绩']]"
   ]
  },
  {
   "cell_type": "code",
   "execution_count": 9,
   "metadata": {},
   "outputs": [
    {
     "data": {
      "text/html": [
       "<div>\n",
       "<style scoped>\n",
       "    .dataframe tbody tr th:only-of-type {\n",
       "        vertical-align: middle;\n",
       "    }\n",
       "\n",
       "    .dataframe tbody tr th {\n",
       "        vertical-align: top;\n",
       "    }\n",
       "\n",
       "    .dataframe thead th {\n",
       "        text-align: right;\n",
       "    }\n",
       "</style>\n",
       "<table border=\"1\" class=\"dataframe\">\n",
       "  <thead>\n",
       "    <tr style=\"text-align: right;\">\n",
       "      <th></th>\n",
       "      <th>姓名</th>\n",
       "      <th>统计学成绩</th>\n",
       "    </tr>\n",
       "  </thead>\n",
       "  <tbody>\n",
       "    <tr>\n",
       "      <td>0</td>\n",
       "      <td>张松</td>\n",
       "      <td>69</td>\n",
       "    </tr>\n",
       "    <tr>\n",
       "      <td>2</td>\n",
       "      <td>田雨</td>\n",
       "      <td>54</td>\n",
       "    </tr>\n",
       "    <tr>\n",
       "      <td>4</td>\n",
       "      <td>赵颖</td>\n",
       "      <td>75</td>\n",
       "    </tr>\n",
       "    <tr>\n",
       "      <td>6</td>\n",
       "      <td>袁方</td>\n",
       "      <td>75</td>\n",
       "    </tr>\n",
       "  </tbody>\n",
       "</table>\n",
       "</div>"
      ],
      "text/plain": [
       "   姓名  统计学成绩\n",
       "0  张松     69\n",
       "2  田雨     54\n",
       "4  赵颖     75\n",
       "6  袁方     75"
      ]
     },
     "execution_count": 9,
     "metadata": {},
     "output_type": "execute_result"
    }
   ],
   "source": [
    "# 筛选'统计学成绩'低于80分学生的'姓名'和'统计学成绩'\n",
    "df3_1.loc[df3_1['统计学成绩']<80,['姓名','统计学成绩']]"
   ]
  },
  {
   "cell_type": "markdown",
   "metadata": {},
   "source": [
    "## 排序\n",
    "- 分类数据\n",
    "    - 字母型\n",
    "    - 汉字型\n",
    "        - 拼音\n",
    "        - 笔画\n",
    "- 数值型\n",
    " - 递增\n",
    " - 递减\n",
    " \n",
    "### pandas实现数据排序\n",
    "`df.sort_values(by='column_name',ascending=True)`"
   ]
  },
  {
   "cell_type": "code",
   "execution_count": 10,
   "metadata": {},
   "outputs": [
    {
     "data": {
      "text/html": [
       "<div>\n",
       "<style scoped>\n",
       "    .dataframe tbody tr th:only-of-type {\n",
       "        vertical-align: middle;\n",
       "    }\n",
       "\n",
       "    .dataframe tbody tr th {\n",
       "        vertical-align: top;\n",
       "    }\n",
       "\n",
       "    .dataframe thead th {\n",
       "        text-align: right;\n",
       "    }\n",
       "</style>\n",
       "<table border=\"1\" class=\"dataframe\">\n",
       "  <thead>\n",
       "    <tr style=\"text-align: right;\">\n",
       "      <th></th>\n",
       "      <th>姓名</th>\n",
       "      <th>统计学成绩</th>\n",
       "      <th>数学成绩</th>\n",
       "      <th>英语成绩</th>\n",
       "      <th>经济学成绩</th>\n",
       "    </tr>\n",
       "  </thead>\n",
       "  <tbody>\n",
       "    <tr>\n",
       "      <td>1</td>\n",
       "      <td>王翔</td>\n",
       "      <td>91</td>\n",
       "      <td>75</td>\n",
       "      <td>95</td>\n",
       "      <td>94</td>\n",
       "    </tr>\n",
       "    <tr>\n",
       "      <td>7</td>\n",
       "      <td>陈风</td>\n",
       "      <td>87</td>\n",
       "      <td>76</td>\n",
       "      <td>92</td>\n",
       "      <td>77</td>\n",
       "    </tr>\n",
       "    <tr>\n",
       "      <td>5</td>\n",
       "      <td>宋媛</td>\n",
       "      <td>83</td>\n",
       "      <td>72</td>\n",
       "      <td>66</td>\n",
       "      <td>71</td>\n",
       "    </tr>\n",
       "    <tr>\n",
       "      <td>3</td>\n",
       "      <td>李华</td>\n",
       "      <td>81</td>\n",
       "      <td>60</td>\n",
       "      <td>86</td>\n",
       "      <td>64</td>\n",
       "    </tr>\n",
       "    <tr>\n",
       "      <td>4</td>\n",
       "      <td>赵颖</td>\n",
       "      <td>75</td>\n",
       "      <td>96</td>\n",
       "      <td>81</td>\n",
       "      <td>83</td>\n",
       "    </tr>\n",
       "    <tr>\n",
       "      <td>6</td>\n",
       "      <td>袁方</td>\n",
       "      <td>75</td>\n",
       "      <td>58</td>\n",
       "      <td>76</td>\n",
       "      <td>90</td>\n",
       "    </tr>\n",
       "    <tr>\n",
       "      <td>0</td>\n",
       "      <td>张松</td>\n",
       "      <td>69</td>\n",
       "      <td>68</td>\n",
       "      <td>84</td>\n",
       "      <td>86</td>\n",
       "    </tr>\n",
       "    <tr>\n",
       "      <td>2</td>\n",
       "      <td>田雨</td>\n",
       "      <td>54</td>\n",
       "      <td>88</td>\n",
       "      <td>67</td>\n",
       "      <td>78</td>\n",
       "    </tr>\n",
       "  </tbody>\n",
       "</table>\n",
       "</div>"
      ],
      "text/plain": [
       "   姓名  统计学成绩  数学成绩  英语成绩  经济学成绩\n",
       "1  王翔     91    75    95     94\n",
       "7  陈风     87    76    92     77\n",
       "5  宋媛     83    72    66     71\n",
       "3  李华     81    60    86     64\n",
       "4  赵颖     75    96    81     83\n",
       "6  袁方     75    58    76     90\n",
       "0  张松     69    68    84     86\n",
       "2  田雨     54    88    67     78"
      ]
     },
     "execution_count": 10,
     "metadata": {},
     "output_type": "execute_result"
    }
   ],
   "source": [
    "# 按'统计学成绩'递减排序\n",
    "df3_1.sort_values(by='统计学成绩',ascending=False)"
   ]
  },
  {
   "cell_type": "markdown",
   "metadata": {},
   "source": [
    "## 数据透视表(pivot table)\n",
    "\n",
    "数据透视表可以对数据表重要的信息按需求进行汇总，形成一个符合要求的交叉表。在利用透视表时，原数据表中首行必须有列标题。"
   ]
  },
  {
   "cell_type": "code",
   "execution_count": 2,
   "metadata": {},
   "outputs": [
    {
     "data": {
      "text/html": [
       "<div>\n",
       "<style scoped>\n",
       "    .dataframe tbody tr th:only-of-type {\n",
       "        vertical-align: middle;\n",
       "    }\n",
       "\n",
       "    .dataframe tbody tr th {\n",
       "        vertical-align: top;\n",
       "    }\n",
       "\n",
       "    .dataframe thead th {\n",
       "        text-align: right;\n",
       "    }\n",
       "</style>\n",
       "<table border=\"1\" class=\"dataframe\">\n",
       "  <thead>\n",
       "    <tr style=\"text-align: right;\">\n",
       "      <th></th>\n",
       "      <th>编号</th>\n",
       "      <th>性别</th>\n",
       "      <th>家庭所在地区</th>\n",
       "      <th>平均月生活费(元)</th>\n",
       "      <th>月平均衣物支出(元)</th>\n",
       "      <th>买衣物首选因素</th>\n",
       "    </tr>\n",
       "  </thead>\n",
       "  <tbody>\n",
       "    <tr>\n",
       "      <td>0</td>\n",
       "      <td>1</td>\n",
       "      <td>男</td>\n",
       "      <td>大型城市</td>\n",
       "      <td>800</td>\n",
       "      <td>200</td>\n",
       "      <td>价格</td>\n",
       "    </tr>\n",
       "    <tr>\n",
       "      <td>1</td>\n",
       "      <td>2</td>\n",
       "      <td>女</td>\n",
       "      <td>中小城市</td>\n",
       "      <td>600</td>\n",
       "      <td>180</td>\n",
       "      <td>款式</td>\n",
       "    </tr>\n",
       "    <tr>\n",
       "      <td>2</td>\n",
       "      <td>3</td>\n",
       "      <td>男</td>\n",
       "      <td>大型城市</td>\n",
       "      <td>1000</td>\n",
       "      <td>300</td>\n",
       "      <td>品牌</td>\n",
       "    </tr>\n",
       "    <tr>\n",
       "      <td>3</td>\n",
       "      <td>4</td>\n",
       "      <td>男</td>\n",
       "      <td>中小城市</td>\n",
       "      <td>400</td>\n",
       "      <td>40</td>\n",
       "      <td>价格</td>\n",
       "    </tr>\n",
       "    <tr>\n",
       "      <td>4</td>\n",
       "      <td>5</td>\n",
       "      <td>女</td>\n",
       "      <td>中小城市</td>\n",
       "      <td>500</td>\n",
       "      <td>150</td>\n",
       "      <td>款式</td>\n",
       "    </tr>\n",
       "  </tbody>\n",
       "</table>\n",
       "</div>"
      ],
      "text/plain": [
       "   编号 性别 家庭所在地区  平均月生活费(元)  月平均衣物支出(元) 买衣物首选因素\n",
       "0   1  男   大型城市        800         200      价格\n",
       "1   2  女   中小城市        600         180      款式\n",
       "2   3  男   大型城市       1000         300      品牌\n",
       "3   4  男   中小城市        400          40      价格\n",
       "4   5  女   中小城市        500         150      款式"
      ]
     },
     "execution_count": 2,
     "metadata": {},
     "output_type": "execute_result"
    }
   ],
   "source": [
    "# 读取 例3.2\n",
    "df3_2=pd.read_excel('例题数据/例3.2.xlsx')\n",
    "df3_2.head()"
   ]
  },
  {
   "cell_type": "markdown",
   "metadata": {},
   "source": [
    "## pandas实现数据透视表\n",
    "\n",
    "`pd.pivot_table()`\n",
    "- `data`:输入的Dataframe\n",
    "- `values`:optional, 需要汇总的列\n",
    "- `index`:用作索引的列, 每个pivot table必须有一个Index\n",
    "- `columns`: optional, 根据所选的columns对汇总的特征进行进一步分割"
   ]
  },
  {
   "cell_type": "code",
   "execution_count": 23,
   "metadata": {},
   "outputs": [
    {
     "data": {
      "text/html": [
       "<div>\n",
       "<style scoped>\n",
       "    .dataframe tbody tr th:only-of-type {\n",
       "        vertical-align: middle;\n",
       "    }\n",
       "\n",
       "    .dataframe tbody tr th {\n",
       "        vertical-align: top;\n",
       "    }\n",
       "\n",
       "    .dataframe thead th {\n",
       "        text-align: right;\n",
       "    }\n",
       "</style>\n",
       "<table border=\"1\" class=\"dataframe\">\n",
       "  <thead>\n",
       "    <tr style=\"text-align: right;\">\n",
       "      <th></th>\n",
       "      <th>平均月生活费(元)</th>\n",
       "      <th>月平均衣物支出(元)</th>\n",
       "    </tr>\n",
       "    <tr>\n",
       "      <th>家庭所在地区</th>\n",
       "      <th></th>\n",
       "      <th></th>\n",
       "    </tr>\n",
       "  </thead>\n",
       "  <tbody>\n",
       "    <tr>\n",
       "      <td>中小城市</td>\n",
       "      <td>621.428571</td>\n",
       "      <td>151.071429</td>\n",
       "    </tr>\n",
       "    <tr>\n",
       "      <td>乡镇地区</td>\n",
       "      <td>633.333333</td>\n",
       "      <td>103.333333</td>\n",
       "    </tr>\n",
       "    <tr>\n",
       "      <td>大型城市</td>\n",
       "      <td>590.000000</td>\n",
       "      <td>156.000000</td>\n",
       "    </tr>\n",
       "  </tbody>\n",
       "</table>\n",
       "</div>"
      ],
      "text/plain": [
       "         平均月生活费(元)  月平均衣物支出(元)\n",
       "家庭所在地区                        \n",
       "中小城市    621.428571  151.071429\n",
       "乡镇地区    633.333333  103.333333\n",
       "大型城市    590.000000  156.000000"
      ]
     },
     "execution_count": 23,
     "metadata": {},
     "output_type": "execute_result"
    }
   ],
   "source": [
    "# 没有columns\n",
    "pd.pivot_table(df3_2,values=['平均月生活费(元)','月平均衣物支出(元)'],\n",
    "              index='家庭所在地区',aggfunc=np.mean)"
   ]
  },
  {
   "cell_type": "code",
   "execution_count": 25,
   "metadata": {},
   "outputs": [
    {
     "data": {
      "text/html": [
       "<div>\n",
       "<style scoped>\n",
       "    .dataframe tbody tr th:only-of-type {\n",
       "        vertical-align: middle;\n",
       "    }\n",
       "\n",
       "    .dataframe tbody tr th {\n",
       "        vertical-align: top;\n",
       "    }\n",
       "\n",
       "    .dataframe thead tr th {\n",
       "        text-align: left;\n",
       "    }\n",
       "\n",
       "    .dataframe thead tr:last-of-type th {\n",
       "        text-align: right;\n",
       "    }\n",
       "</style>\n",
       "<table border=\"1\" class=\"dataframe\">\n",
       "  <thead>\n",
       "    <tr>\n",
       "      <th></th>\n",
       "      <th colspan=\"2\" halign=\"left\">平均月生活费(元)</th>\n",
       "      <th colspan=\"2\" halign=\"left\">月平均衣物支出(元)</th>\n",
       "    </tr>\n",
       "    <tr>\n",
       "      <th>性别</th>\n",
       "      <th>女</th>\n",
       "      <th>男</th>\n",
       "      <th>女</th>\n",
       "      <th>男</th>\n",
       "    </tr>\n",
       "    <tr>\n",
       "      <th>家庭所在地区</th>\n",
       "      <th></th>\n",
       "      <th></th>\n",
       "      <th></th>\n",
       "      <th></th>\n",
       "    </tr>\n",
       "  </thead>\n",
       "  <tbody>\n",
       "    <tr>\n",
       "      <td>中小城市</td>\n",
       "      <td>528.571429</td>\n",
       "      <td>714.285714</td>\n",
       "      <td>113.571429</td>\n",
       "      <td>188.571429</td>\n",
       "    </tr>\n",
       "    <tr>\n",
       "      <td>乡镇地区</td>\n",
       "      <td>600.000000</td>\n",
       "      <td>650.000000</td>\n",
       "      <td>100.000000</td>\n",
       "      <td>105.000000</td>\n",
       "    </tr>\n",
       "    <tr>\n",
       "      <td>大型城市</td>\n",
       "      <td>550.000000</td>\n",
       "      <td>650.000000</td>\n",
       "      <td>146.666667</td>\n",
       "      <td>170.000000</td>\n",
       "    </tr>\n",
       "  </tbody>\n",
       "</table>\n",
       "</div>"
      ],
      "text/plain": [
       "         平均月生活费(元)              月平均衣物支出(元)            \n",
       "性别               女           男           女           男\n",
       "家庭所在地区                                                \n",
       "中小城市    528.571429  714.285714  113.571429  188.571429\n",
       "乡镇地区    600.000000  650.000000  100.000000  105.000000\n",
       "大型城市    550.000000  650.000000  146.666667  170.000000"
      ]
     },
     "execution_count": 25,
     "metadata": {},
     "output_type": "execute_result"
    }
   ],
   "source": [
    "# 将'性别'设置成columns, 对原有的pivot table的特征(columns)进一步分割\n",
    "pd.pivot_table(df3_2,values=['平均月生活费(元)','月平均衣物支出(元)'],columns='性别',\n",
    "              index='家庭所在地区',aggfunc=np.mean)"
   ]
  },
  {
   "cell_type": "markdown",
   "metadata": {},
   "source": [
    "# 品质数据的整理与可视化\n",
    "## 分类数据\n",
    "\n",
    "分类数据整理\n",
    "\n",
    "- 频数:落在各类别中的数据个数\n",
    "- 比例:某一类别数据个数的比值\n",
    "- 百分比\n",
    "- 比率:不同类别数值个数的比值"
   ]
  },
  {
   "cell_type": "markdown",
   "metadata": {},
   "source": [
    "### pandass实现频数分布表(cross tab)\n",
    "\n",
    "`pd.crosstab()`\n",
    "\n",
    "- `index`: 行汇总分类数据频数\n",
    "- `columns`:列汇总分类数据频数\n",
    "- `margins`:optional bool, 边缘总频率汇总, default to `False`"
   ]
  },
  {
   "cell_type": "code",
   "execution_count": 13,
   "metadata": {},
   "outputs": [
    {
     "data": {
      "text/html": [
       "<div>\n",
       "<style scoped>\n",
       "    .dataframe tbody tr th:only-of-type {\n",
       "        vertical-align: middle;\n",
       "    }\n",
       "\n",
       "    .dataframe tbody tr th {\n",
       "        vertical-align: top;\n",
       "    }\n",
       "\n",
       "    .dataframe thead th {\n",
       "        text-align: right;\n",
       "    }\n",
       "</style>\n",
       "<table border=\"1\" class=\"dataframe\">\n",
       "  <thead>\n",
       "    <tr style=\"text-align: right;\">\n",
       "      <th></th>\n",
       "      <th>顾客性别</th>\n",
       "      <th>饮料类型</th>\n",
       "    </tr>\n",
       "  </thead>\n",
       "  <tbody>\n",
       "    <tr>\n",
       "      <td>0</td>\n",
       "      <td>女</td>\n",
       "      <td>碳酸饮料</td>\n",
       "    </tr>\n",
       "    <tr>\n",
       "      <td>1</td>\n",
       "      <td>男</td>\n",
       "      <td>绿茶</td>\n",
       "    </tr>\n",
       "    <tr>\n",
       "      <td>2</td>\n",
       "      <td>男</td>\n",
       "      <td>矿泉水</td>\n",
       "    </tr>\n",
       "    <tr>\n",
       "      <td>3</td>\n",
       "      <td>女</td>\n",
       "      <td>矿泉水</td>\n",
       "    </tr>\n",
       "    <tr>\n",
       "      <td>4</td>\n",
       "      <td>男</td>\n",
       "      <td>碳酸饮料</td>\n",
       "    </tr>\n",
       "  </tbody>\n",
       "</table>\n",
       "</div>"
      ],
      "text/plain": [
       "  顾客性别  饮料类型\n",
       "0    女  碳酸饮料\n",
       "1    男    绿茶\n",
       "2    男   矿泉水\n",
       "3    女   矿泉水\n",
       "4    男  碳酸饮料"
      ]
     },
     "execution_count": 13,
     "metadata": {},
     "output_type": "execute_result"
    }
   ],
   "source": [
    "df3_3=pd.read_excel('例题数据/例3.3.xlsx')\n",
    "df3_3.head()"
   ]
  },
  {
   "cell_type": "code",
   "execution_count": 14,
   "metadata": {},
   "outputs": [
    {
     "data": {
      "text/html": [
       "<div>\n",
       "<style scoped>\n",
       "    .dataframe tbody tr th:only-of-type {\n",
       "        vertical-align: middle;\n",
       "    }\n",
       "\n",
       "    .dataframe tbody tr th {\n",
       "        vertical-align: top;\n",
       "    }\n",
       "\n",
       "    .dataframe thead th {\n",
       "        text-align: right;\n",
       "    }\n",
       "</style>\n",
       "<table border=\"1\" class=\"dataframe\">\n",
       "  <thead>\n",
       "    <tr style=\"text-align: right;\">\n",
       "      <th>顾客性别</th>\n",
       "      <th>女</th>\n",
       "      <th>男</th>\n",
       "    </tr>\n",
       "    <tr>\n",
       "      <th>饮料类型</th>\n",
       "      <th></th>\n",
       "      <th></th>\n",
       "    </tr>\n",
       "  </thead>\n",
       "  <tbody>\n",
       "    <tr>\n",
       "      <td>其他</td>\n",
       "      <td>6</td>\n",
       "      <td>2</td>\n",
       "    </tr>\n",
       "    <tr>\n",
       "      <td>果汁</td>\n",
       "      <td>5</td>\n",
       "      <td>1</td>\n",
       "    </tr>\n",
       "    <tr>\n",
       "      <td>矿泉水</td>\n",
       "      <td>4</td>\n",
       "      <td>6</td>\n",
       "    </tr>\n",
       "    <tr>\n",
       "      <td>碳酸饮料</td>\n",
       "      <td>9</td>\n",
       "      <td>6</td>\n",
       "    </tr>\n",
       "    <tr>\n",
       "      <td>绿茶</td>\n",
       "      <td>4</td>\n",
       "      <td>7</td>\n",
       "    </tr>\n",
       "  </tbody>\n",
       "</table>\n",
       "</div>"
      ],
      "text/plain": [
       "顾客性别  女  男\n",
       "饮料类型      \n",
       "其他    6  2\n",
       "果汁    5  1\n",
       "矿泉水   4  6\n",
       "碳酸饮料  9  6\n",
       "绿茶    4  7"
      ]
     },
     "execution_count": 14,
     "metadata": {},
     "output_type": "execute_result"
    }
   ],
   "source": [
    "pd.crosstab(df3_3['饮料类型'],df3_3['顾客性别'])"
   ]
  },
  {
   "cell_type": "code",
   "execution_count": 34,
   "metadata": {},
   "outputs": [
    {
     "data": {
      "text/html": [
       "<div>\n",
       "<style scoped>\n",
       "    .dataframe tbody tr th:only-of-type {\n",
       "        vertical-align: middle;\n",
       "    }\n",
       "\n",
       "    .dataframe tbody tr th {\n",
       "        vertical-align: top;\n",
       "    }\n",
       "\n",
       "    .dataframe thead th {\n",
       "        text-align: right;\n",
       "    }\n",
       "</style>\n",
       "<table border=\"1\" class=\"dataframe\">\n",
       "  <thead>\n",
       "    <tr style=\"text-align: right;\">\n",
       "      <th>顾客性别</th>\n",
       "      <th>女</th>\n",
       "      <th>男</th>\n",
       "      <th>total</th>\n",
       "    </tr>\n",
       "    <tr>\n",
       "      <th>饮料类型</th>\n",
       "      <th></th>\n",
       "      <th></th>\n",
       "      <th></th>\n",
       "    </tr>\n",
       "  </thead>\n",
       "  <tbody>\n",
       "    <tr>\n",
       "      <td>其他</td>\n",
       "      <td>6</td>\n",
       "      <td>2</td>\n",
       "      <td>8</td>\n",
       "    </tr>\n",
       "    <tr>\n",
       "      <td>果汁</td>\n",
       "      <td>5</td>\n",
       "      <td>1</td>\n",
       "      <td>6</td>\n",
       "    </tr>\n",
       "    <tr>\n",
       "      <td>矿泉水</td>\n",
       "      <td>4</td>\n",
       "      <td>6</td>\n",
       "      <td>10</td>\n",
       "    </tr>\n",
       "    <tr>\n",
       "      <td>碳酸饮料</td>\n",
       "      <td>9</td>\n",
       "      <td>6</td>\n",
       "      <td>15</td>\n",
       "    </tr>\n",
       "    <tr>\n",
       "      <td>绿茶</td>\n",
       "      <td>4</td>\n",
       "      <td>7</td>\n",
       "      <td>11</td>\n",
       "    </tr>\n",
       "    <tr>\n",
       "      <td>total</td>\n",
       "      <td>28</td>\n",
       "      <td>22</td>\n",
       "      <td>50</td>\n",
       "    </tr>\n",
       "  </tbody>\n",
       "</table>\n",
       "</div>"
      ],
      "text/plain": [
       "顾客性别    女   男  total\n",
       "饮料类型                \n",
       "其他      6   2      8\n",
       "果汁      5   1      6\n",
       "矿泉水     4   6     10\n",
       "碳酸饮料    9   6     15\n",
       "绿茶      4   7     11\n",
       "total  28  22     50"
      ]
     },
     "execution_count": 34,
     "metadata": {},
     "output_type": "execute_result"
    }
   ],
   "source": [
    "pd.crosstab(df3_3['饮料类型'],df3_3['顾客性别'],margins=True,margins_name='total')"
   ]
  },
  {
   "cell_type": "code",
   "execution_count": 35,
   "metadata": {},
   "outputs": [
    {
     "data": {
      "text/html": [
       "<div>\n",
       "<style scoped>\n",
       "    .dataframe tbody tr th:only-of-type {\n",
       "        vertical-align: middle;\n",
       "    }\n",
       "\n",
       "    .dataframe tbody tr th {\n",
       "        vertical-align: top;\n",
       "    }\n",
       "\n",
       "    .dataframe thead th {\n",
       "        text-align: right;\n",
       "    }\n",
       "</style>\n",
       "<table border=\"1\" class=\"dataframe\">\n",
       "  <thead>\n",
       "    <tr style=\"text-align: right;\">\n",
       "      <th>饮料类型</th>\n",
       "      <th>其他</th>\n",
       "      <th>果汁</th>\n",
       "      <th>矿泉水</th>\n",
       "      <th>碳酸饮料</th>\n",
       "      <th>绿茶</th>\n",
       "      <th>All</th>\n",
       "    </tr>\n",
       "    <tr>\n",
       "      <th>顾客性别</th>\n",
       "      <th></th>\n",
       "      <th></th>\n",
       "      <th></th>\n",
       "      <th></th>\n",
       "      <th></th>\n",
       "      <th></th>\n",
       "    </tr>\n",
       "  </thead>\n",
       "  <tbody>\n",
       "    <tr>\n",
       "      <td>女</td>\n",
       "      <td>6</td>\n",
       "      <td>5</td>\n",
       "      <td>4</td>\n",
       "      <td>9</td>\n",
       "      <td>4</td>\n",
       "      <td>28</td>\n",
       "    </tr>\n",
       "    <tr>\n",
       "      <td>男</td>\n",
       "      <td>2</td>\n",
       "      <td>1</td>\n",
       "      <td>6</td>\n",
       "      <td>6</td>\n",
       "      <td>7</td>\n",
       "      <td>22</td>\n",
       "    </tr>\n",
       "    <tr>\n",
       "      <td>All</td>\n",
       "      <td>8</td>\n",
       "      <td>6</td>\n",
       "      <td>10</td>\n",
       "      <td>15</td>\n",
       "      <td>11</td>\n",
       "      <td>50</td>\n",
       "    </tr>\n",
       "  </tbody>\n",
       "</table>\n",
       "</div>"
      ],
      "text/plain": [
       "饮料类型  其他  果汁  矿泉水  碳酸饮料  绿茶  All\n",
       "顾客性别                            \n",
       "女      6   5    4     9   4   28\n",
       "男      2   1    6     6   7   22\n",
       "All    8   6   10    15  11   50"
      ]
     },
     "execution_count": 35,
     "metadata": {},
     "output_type": "execute_result"
    }
   ],
   "source": [
    "pd.crosstab(df3_3['顾客性别'],df3_3['饮料类型'],margins=True)"
   ]
  },
  {
   "cell_type": "code",
   "execution_count": 15,
   "metadata": {},
   "outputs": [
    {
     "data": {
      "text/html": [
       "<div>\n",
       "<style scoped>\n",
       "    .dataframe tbody tr th:only-of-type {\n",
       "        vertical-align: middle;\n",
       "    }\n",
       "\n",
       "    .dataframe tbody tr th {\n",
       "        vertical-align: top;\n",
       "    }\n",
       "\n",
       "    .dataframe thead th {\n",
       "        text-align: right;\n",
       "    }\n",
       "</style>\n",
       "<table border=\"1\" class=\"dataframe\">\n",
       "  <thead>\n",
       "    <tr style=\"text-align: right;\">\n",
       "      <th>顾客性别</th>\n",
       "      <th>女</th>\n",
       "      <th>男</th>\n",
       "      <th>All</th>\n",
       "    </tr>\n",
       "    <tr>\n",
       "      <th>饮料类型</th>\n",
       "      <th></th>\n",
       "      <th></th>\n",
       "      <th></th>\n",
       "    </tr>\n",
       "  </thead>\n",
       "  <tbody>\n",
       "    <tr>\n",
       "      <td>其他</td>\n",
       "      <td>12.0</td>\n",
       "      <td>4.0</td>\n",
       "      <td>16.0</td>\n",
       "    </tr>\n",
       "    <tr>\n",
       "      <td>果汁</td>\n",
       "      <td>10.0</td>\n",
       "      <td>2.0</td>\n",
       "      <td>12.0</td>\n",
       "    </tr>\n",
       "    <tr>\n",
       "      <td>矿泉水</td>\n",
       "      <td>8.0</td>\n",
       "      <td>12.0</td>\n",
       "      <td>20.0</td>\n",
       "    </tr>\n",
       "    <tr>\n",
       "      <td>碳酸饮料</td>\n",
       "      <td>18.0</td>\n",
       "      <td>12.0</td>\n",
       "      <td>30.0</td>\n",
       "    </tr>\n",
       "    <tr>\n",
       "      <td>绿茶</td>\n",
       "      <td>8.0</td>\n",
       "      <td>14.0</td>\n",
       "      <td>22.0</td>\n",
       "    </tr>\n",
       "    <tr>\n",
       "      <td>All</td>\n",
       "      <td>56.0</td>\n",
       "      <td>44.0</td>\n",
       "      <td>100.0</td>\n",
       "    </tr>\n",
       "  </tbody>\n",
       "</table>\n",
       "</div>"
      ],
      "text/plain": [
       "顾客性别     女     男    All\n",
       "饮料类型                   \n",
       "其他    12.0   4.0   16.0\n",
       "果汁    10.0   2.0   12.0\n",
       "矿泉水    8.0  12.0   20.0\n",
       "碳酸饮料  18.0  12.0   30.0\n",
       "绿茶     8.0  14.0   22.0\n",
       "All   56.0  44.0  100.0"
      ]
     },
     "execution_count": 15,
     "metadata": {},
     "output_type": "execute_result"
    }
   ],
   "source": [
    "# 构造频数分布表\n",
    "freq_table=pd.crosstab(index=df3_3['饮料类型'],columns=df3_3['顾客性别'],margins=True)\n",
    "# 分布百分比\n",
    "freq_table/len(df3_3)*100"
   ]
  },
  {
   "cell_type": "markdown",
   "metadata": {},
   "source": [
    "## 分类数据可视化\n",
    "\n",
    "- 条形图\n",
    "- 帕累托图\n",
    "- 饼图\n",
    "\n",
    "### 条形图"
   ]
  },
  {
   "cell_type": "code",
   "execution_count": 46,
   "metadata": {},
   "outputs": [
    {
     "data": {
      "text/plain": [
       "<matplotlib.axes._subplots.AxesSubplot at 0x2371dcf59c8>"
      ]
     },
     "execution_count": 46,
     "metadata": {},
     "output_type": "execute_result"
    },
    {
     "data": {
      "image/png": "[encoded data removed]",
      "text/plain": [
       "<Figure size 432x288 with 1 Axes>"
      ]
     },
     "metadata": {},
     "output_type": "display_data"
    }
   ],
   "source": [
    "sns.countplot(data=df3_3,x='饮料类型')"
   ]
  },
  {
   "cell_type": "code",
   "execution_count": 45,
   "metadata": {},
   "outputs": [
    {
     "data": {
      "text/plain": [
       "<matplotlib.axes._subplots.AxesSubplot at 0x2371e69e9c8>"
      ]
     },
     "execution_count": 45,
     "metadata": {},
     "output_type": "execute_result"
    },
    {
     "data": {
      "image/png": "[encoded data removed]",
      "text/plain": [
       "<Figure size 432x288 with 1 Axes>"
      ]
     },
     "metadata": {},
     "output_type": "display_data"
    }
   ],
   "source": [
    "sns.countplot(data=df3_3,x='饮料类型',hue='顾客性别')"
   ]
  },
  {
   "cell_type": "markdown",
   "metadata": {},
   "source": [
    "#### challenge: 堆积条形图\n",
    "\n",
    "[参考点这里](https://www.matplotlib.org.cn/gallery/lines_bars_and_markers/bar_stacked.html)"
   ]
  },
  {
   "cell_type": "code",
   "execution_count": 103,
   "metadata": {},
   "outputs": [
    {
     "data": {
      "text/plain": [
       "<matplotlib.legend.Legend at 0x23726eae6c8>"
      ]
     },
     "execution_count": 103,
     "metadata": {},
     "output_type": "execute_result"
    },
    {
     "data": {
      "image/png": "[encoded data removed]",
      "text/plain": [
       "<Figure size 432x288 with 1 Axes>"
      ]
     },
     "metadata": {},
     "output_type": "display_data"
    }
   ],
   "source": [
    "ind=freq_table.index.to_list()\n",
    "\n",
    "p1=plt.bar(ind,freq_table['女'])\n",
    "# 第二个bar一定要设置bottom=第一个变量\n",
    "p2=plt.bar(ind,freq_table['男'],bottom=freq_table['女'])\n",
    "plt.legend((p1[0],p2[0]),('Girl','Boy'))"
   ]
  },
  {
   "cell_type": "code",
   "execution_count": 16,
   "metadata": {},
   "outputs": [
    {
     "data": {
      "text/html": [
       "<div>\n",
       "<style scoped>\n",
       "    .dataframe tbody tr th:only-of-type {\n",
       "        vertical-align: middle;\n",
       "    }\n",
       "\n",
       "    .dataframe tbody tr th {\n",
       "        vertical-align: top;\n",
       "    }\n",
       "\n",
       "    .dataframe thead th {\n",
       "        text-align: right;\n",
       "    }\n",
       "</style>\n",
       "<table border=\"1\" class=\"dataframe\">\n",
       "  <thead>\n",
       "    <tr style=\"text-align: right;\">\n",
       "      <th>顾客性别</th>\n",
       "      <th>女</th>\n",
       "      <th>男</th>\n",
       "      <th>All</th>\n",
       "    </tr>\n",
       "    <tr>\n",
       "      <th>饮料类型</th>\n",
       "      <th></th>\n",
       "      <th></th>\n",
       "      <th></th>\n",
       "    </tr>\n",
       "  </thead>\n",
       "  <tbody>\n",
       "    <tr>\n",
       "      <td>其他</td>\n",
       "      <td>6</td>\n",
       "      <td>2</td>\n",
       "      <td>8</td>\n",
       "    </tr>\n",
       "    <tr>\n",
       "      <td>果汁</td>\n",
       "      <td>5</td>\n",
       "      <td>1</td>\n",
       "      <td>6</td>\n",
       "    </tr>\n",
       "    <tr>\n",
       "      <td>矿泉水</td>\n",
       "      <td>4</td>\n",
       "      <td>6</td>\n",
       "      <td>10</td>\n",
       "    </tr>\n",
       "    <tr>\n",
       "      <td>碳酸饮料</td>\n",
       "      <td>9</td>\n",
       "      <td>6</td>\n",
       "      <td>15</td>\n",
       "    </tr>\n",
       "    <tr>\n",
       "      <td>绿茶</td>\n",
       "      <td>4</td>\n",
       "      <td>7</td>\n",
       "      <td>11</td>\n",
       "    </tr>\n",
       "    <tr>\n",
       "      <td>All</td>\n",
       "      <td>28</td>\n",
       "      <td>22</td>\n",
       "      <td>50</td>\n",
       "    </tr>\n",
       "  </tbody>\n",
       "</table>\n",
       "</div>"
      ],
      "text/plain": [
       "顾客性别   女   男  All\n",
       "饮料类型             \n",
       "其他     6   2    8\n",
       "果汁     5   1    6\n",
       "矿泉水    4   6   10\n",
       "碳酸饮料   9   6   15\n",
       "绿茶     4   7   11\n",
       "All   28  22   50"
      ]
     },
     "execution_count": 16,
     "metadata": {},
     "output_type": "execute_result"
    }
   ],
   "source": [
    "freq_table"
   ]
  },
  {
   "cell_type": "code",
   "execution_count": 18,
   "metadata": {},
   "outputs": [
    {
     "data": {
      "text/html": [
       "<div>\n",
       "<style scoped>\n",
       "    .dataframe tbody tr th:only-of-type {\n",
       "        vertical-align: middle;\n",
       "    }\n",
       "\n",
       "    .dataframe tbody tr th {\n",
       "        vertical-align: top;\n",
       "    }\n",
       "\n",
       "    .dataframe thead th {\n",
       "        text-align: right;\n",
       "    }\n",
       "</style>\n",
       "<table border=\"1\" class=\"dataframe\">\n",
       "  <thead>\n",
       "    <tr style=\"text-align: right;\">\n",
       "      <th>顾客性别</th>\n",
       "      <th>女</th>\n",
       "      <th>男</th>\n",
       "      <th>All</th>\n",
       "      <th>cumsum</th>\n",
       "    </tr>\n",
       "    <tr>\n",
       "      <th>饮料类型</th>\n",
       "      <th></th>\n",
       "      <th></th>\n",
       "      <th></th>\n",
       "      <th></th>\n",
       "    </tr>\n",
       "  </thead>\n",
       "  <tbody>\n",
       "    <tr>\n",
       "      <td>碳酸饮料</td>\n",
       "      <td>9</td>\n",
       "      <td>6</td>\n",
       "      <td>15</td>\n",
       "      <td>15</td>\n",
       "    </tr>\n",
       "    <tr>\n",
       "      <td>绿茶</td>\n",
       "      <td>4</td>\n",
       "      <td>7</td>\n",
       "      <td>11</td>\n",
       "      <td>26</td>\n",
       "    </tr>\n",
       "    <tr>\n",
       "      <td>矿泉水</td>\n",
       "      <td>4</td>\n",
       "      <td>6</td>\n",
       "      <td>10</td>\n",
       "      <td>36</td>\n",
       "    </tr>\n",
       "    <tr>\n",
       "      <td>其他</td>\n",
       "      <td>6</td>\n",
       "      <td>2</td>\n",
       "      <td>8</td>\n",
       "      <td>44</td>\n",
       "    </tr>\n",
       "    <tr>\n",
       "      <td>果汁</td>\n",
       "      <td>5</td>\n",
       "      <td>1</td>\n",
       "      <td>6</td>\n",
       "      <td>50</td>\n",
       "    </tr>\n",
       "  </tbody>\n",
       "</table>\n",
       "</div>"
      ],
      "text/plain": [
       "顾客性别  女  男  All  cumsum\n",
       "饮料类型                   \n",
       "碳酸饮料  9  6   15      15\n",
       "绿茶    4  7   11      26\n",
       "矿泉水   4  6   10      36\n",
       "其他    6  2    8      44\n",
       "果汁    5  1    6      50"
      ]
     },
     "execution_count": 18,
     "metadata": {},
     "output_type": "execute_result"
    }
   ],
   "source": [
    "# 删除最后一行All\n",
    "freq_table=freq_table.iloc[:-1,:]\n",
    "freq_table=freq_table.sort_values(by='All',ascending=False)\n",
    "freq_table['cumsum']=freq_table['All'].cumsum()\n",
    "freq_table"
   ]
  },
  {
   "cell_type": "markdown",
   "metadata": {},
   "source": [
    "### 帕累托图\n",
    "- 按各类别数据出现的频数多少排序后绘制的柱形图\n",
    "- 展示分类数据分布"
   ]
  },
  {
   "cell_type": "code",
   "execution_count": 19,
   "metadata": {},
   "outputs": [
    {
     "data": {
      "text/plain": [
       "<matplotlib.axes._subplots.AxesSubplot at 0x18e0326f748>"
      ]
     },
     "execution_count": 19,
     "metadata": {},
     "output_type": "execute_result"
    },
    {
     "data": {
      "image/png": "[encoded data removed]",
      "text/plain": [
       "<Figure size 432x288 with 1 Axes>"
      ]
     },
     "metadata": {
      "needs_background": "light"
     },
     "output_type": "display_data"
    }
   ],
   "source": [
    "freq_table['All'].plot(kind='bar')\n",
    "freq_table['cumsum'].plot(style='-o',c='g')"
   ]
  },
  {
   "cell_type": "markdown",
   "metadata": {},
   "source": [
    "### 饼图\n",
    "- 用于表示样本中组成各部分的比例\n",
    "- 样本中所占的百分比用园内的各个扇形图角度表示"
   ]
  },
  {
   "cell_type": "code",
   "execution_count": 63,
   "metadata": {},
   "outputs": [
    {
     "data": {
      "text/plain": [
       "<matplotlib.axes._subplots.AxesSubplot at 0x23723989448>"
      ]
     },
     "execution_count": 63,
     "metadata": {},
     "output_type": "execute_result"
    },
    {
     "data": {
      "image/png": "[encoded data removed]",
      "text/plain": [
       "<Figure size 432x288 with 1 Axes>"
      ]
     },
     "metadata": {},
     "output_type": "display_data"
    }
   ],
   "source": [
    "# autopct显示百分比格式\n",
    "freq_table['All'].plot(kind='pie',autopct='%1.1f%%')"
   ]
  },
  {
   "cell_type": "markdown",
   "metadata": {},
   "source": [
    "#### challenge: 双饼图绘制\n"
   ]
  },
  {
   "cell_type": "code",
   "execution_count": 20,
   "metadata": {},
   "outputs": [
    {
     "data": {
      "text/plain": [
       "[Text(0.5, 1.0, 'Pie plot with `ax.pie`'), None]"
      ]
     },
     "execution_count": 20,
     "metadata": {},
     "output_type": "execute_result"
    },
    {
     "data": {
      "image/png": "[encoded data removed]",
      "text/plain": [
       "<Figure size 432x288 with 1 Axes>"
      ]
     },
     "metadata": {},
     "output_type": "display_data"
    }
   ],
   "source": [
    "# 官网样例\n",
    "fig, ax = plt.subplots()\n",
    "\n",
    "size = 0.3\n",
    "vals = np.array([[60., 32.], [37., 40.], [29., 10.]])\n",
    "\n",
    "cmap = plt.get_cmap(\"tab20c\")\n",
    "outer_colors = cmap(np.arange(3)*4)\n",
    "inner_colors = cmap(np.array([1, 2, 5, 6, 9, 10]))\n",
    "\n",
    "ax.pie(vals.sum(axis=1), radius=1, colors=outer_colors,\n",
    "       wedgeprops=dict(width=size, edgecolor='w'))\n",
    "\n",
    "ax.pie(vals.flatten(), radius=1-size, colors=inner_colors,\n",
    "       wedgeprops=dict(width=size, edgecolor='w'))\n",
    "\n",
    "ax.set(aspect=\"equal\", title='Pie plot with `ax.pie`')"
   ]
  },
  {
   "cell_type": "code",
   "execution_count": 24,
   "metadata": {},
   "outputs": [
    {
     "data": {
      "text/plain": [
       "<matplotlib.legend.Legend at 0x18e00f548c8>"
      ]
     },
     "execution_count": 24,
     "metadata": {},
     "output_type": "execute_result"
    },
    {
     "data": {
      "image/png": "[encoded data removed]",
      "text/plain": [
       "<Figure size 432x288 with 1 Axes>"
      ]
     },
     "metadata": {},
     "output_type": "display_data"
    }
   ],
   "source": [
    "# 要画双饼图，无法直接使用plt.pie\n",
    "# 需要用fig,ax=subplots方法\n",
    "# 操作pie(radius参数)进行其中一个饼图的绘制\n",
    "vals1 = freq_table['男']\n",
    "vals2 = freq_table['女']\n",
    "\n",
    "cmap = plt.get_cmap(\"tab20c\")\n",
    "colors = cmap(np.arange(5)*4)\n",
    "\n",
    "labels=freq_table.index.tolist()\n",
    "fig, ax = plt.subplots()\n",
    "# 'wedgeprops'实现空心饼图\n",
    "ax.pie(vals1, radius=1.2,autopct='%1.1f%%',pctdistance=0.9,colors=colors,wedgeprops=dict(width=.5,edgecolor='w'))\n",
    "ax.pie(vals2, radius=1,autopct='%1.2f%%',pctdistance=.5,colors=colors,wedgeprops=dict(width=.5,edgecolor='w'))\n",
    "ax.set(aspect=\"equal\", title='双饼图')\n",
    "plt.legend(labels,loc='best',bbox_to_anchor=(1.05,1))"
   ]
  },
  {
   "cell_type": "code",
   "execution_count": 25,
   "metadata": {},
   "outputs": [
    {
     "name": "stderr",
     "output_type": "stream",
     "text": [
      "e:\\python\\python37\\lib\\site-packages\\ipykernel_launcher.py:12: MatplotlibDeprecationWarning: Non-1D inputs to pie() are currently squeeze()d, but this behavior is deprecated since 3.1 and will be removed in 3.3; pass a 1D array instead.\n",
      "  if sys.path[0] == '':\n"
     ]
    },
    {
     "data": {
      "text/plain": [
       "<matplotlib.legend.Legend at 0x18e01e2aec8>"
      ]
     },
     "execution_count": 25,
     "metadata": {},
     "output_type": "execute_result"
    },
    {
     "data": {
      "image/png": "[encoded data removed]",
      "text/plain": [
       "<Figure size 432x288 with 1 Axes>"
      ]
     },
     "metadata": {},
     "output_type": "display_data"
    }
   ],
   "source": [
    "# 另一种实现空心饼图的方法\n",
    "# vals3是第三个ax的占位变量, 用于挖空中心\n",
    "vals3=1\n",
    "labels=freq_table.index.tolist()\n",
    "fig, ax = plt.subplots()\n",
    "cmap = plt.get_cmap(\"tab20c\")\n",
    "colors = cmap(np.arange(5)*4)\n",
    "\n",
    "ax.pie(vals1, radius=1.2,autopct='%1.1f%%',pctdistance=0.9,colors=colors)\n",
    "ax.pie(vals2, radius=1,autopct='%1.1f%%',pctdistance=.75,colors=colors)\n",
    "# 最内层显示白色\n",
    "ax.pie(vals3, radius=0.6,colors='w')\n",
    "ax.set(aspect=\"equal\", title='环形图')\n",
    "plt.legend(labels,loc='best',bbox_to_anchor=(1.05,1))"
   ]
  },
  {
   "cell_type": "markdown",
   "metadata": {},
   "source": [
    "## 顺序数据\n",
    "\n",
    "- 累积频数:各类别频数逐级累加\n",
    "- 累积频率(累积百分比): 各类别频率逐级累加\n",
    "\n",
    "### pandas实现"
   ]
  },
  {
   "cell_type": "code",
   "execution_count": 28,
   "metadata": {},
   "outputs": [
    {
     "data": {
      "text/html": [
       "<div>\n",
       "<style scoped>\n",
       "    .dataframe tbody tr th:only-of-type {\n",
       "        vertical-align: middle;\n",
       "    }\n",
       "\n",
       "    .dataframe tbody tr th {\n",
       "        vertical-align: top;\n",
       "    }\n",
       "\n",
       "    .dataframe thead th {\n",
       "        text-align: right;\n",
       "    }\n",
       "</style>\n",
       "<table border=\"1\" class=\"dataframe\">\n",
       "  <thead>\n",
       "    <tr style=\"text-align: right;\">\n",
       "      <th></th>\n",
       "      <th>answer</th>\n",
       "      <th>counts</th>\n",
       "    </tr>\n",
       "  </thead>\n",
       "  <tbody>\n",
       "    <tr>\n",
       "      <td>0</td>\n",
       "      <td>very unsatisfied</td>\n",
       "      <td>30</td>\n",
       "    </tr>\n",
       "    <tr>\n",
       "      <td>1</td>\n",
       "      <td>unsatisfied</td>\n",
       "      <td>74</td>\n",
       "    </tr>\n",
       "    <tr>\n",
       "      <td>2</td>\n",
       "      <td>neutral</td>\n",
       "      <td>37</td>\n",
       "    </tr>\n",
       "    <tr>\n",
       "      <td>3</td>\n",
       "      <td>satisfied</td>\n",
       "      <td>82</td>\n",
       "    </tr>\n",
       "    <tr>\n",
       "      <td>4</td>\n",
       "      <td>very satisfied</td>\n",
       "      <td>23</td>\n",
       "    </tr>\n",
       "  </tbody>\n",
       "</table>\n",
       "</div>"
      ],
      "text/plain": [
       "             answer  counts\n",
       "0  very unsatisfied      30\n",
       "1       unsatisfied      74\n",
       "2           neutral      37\n",
       "3         satisfied      82\n",
       "4    very satisfied      23"
      ]
     },
     "execution_count": 28,
     "metadata": {},
     "output_type": "execute_result"
    }
   ],
   "source": [
    "# 原始数据集不好导入，这里直接生成一个\n",
    "df3_5=pd.DataFrame({\n",
    "    'answer':['very unsatisfied','unsatisfied','neutral','satisfied','very satisfied'],\n",
    "    'counts':np.random.randint(20,100,5) # 随机生成20-100个整数，与原文数据不一样\n",
    "})\n",
    "df3_5"
   ]
  },
  {
   "cell_type": "code",
   "execution_count": 49,
   "metadata": {},
   "outputs": [
    {
     "data": {
      "text/html": [
       "<div>\n",
       "<style scoped>\n",
       "    .dataframe tbody tr th:only-of-type {\n",
       "        vertical-align: middle;\n",
       "    }\n",
       "\n",
       "    .dataframe tbody tr th {\n",
       "        vertical-align: top;\n",
       "    }\n",
       "\n",
       "    .dataframe thead th {\n",
       "        text-align: right;\n",
       "    }\n",
       "</style>\n",
       "<table border=\"1\" class=\"dataframe\">\n",
       "  <thead>\n",
       "    <tr style=\"text-align: right;\">\n",
       "      <th></th>\n",
       "      <th>answer</th>\n",
       "      <th>counts</th>\n",
       "      <th>percent</th>\n",
       "      <th>cumsum_asc</th>\n",
       "      <th>cumsum_asc_percent</th>\n",
       "      <th>cumsum_desc</th>\n",
       "      <th>cumsum_desc_percent</th>\n",
       "    </tr>\n",
       "  </thead>\n",
       "  <tbody>\n",
       "    <tr>\n",
       "      <td>0</td>\n",
       "      <td>very unsatisfied</td>\n",
       "      <td>30</td>\n",
       "      <td>12</td>\n",
       "      <td>30</td>\n",
       "      <td>12</td>\n",
       "      <td>246</td>\n",
       "      <td>99</td>\n",
       "    </tr>\n",
       "    <tr>\n",
       "      <td>1</td>\n",
       "      <td>unsatisfied</td>\n",
       "      <td>74</td>\n",
       "      <td>30</td>\n",
       "      <td>104</td>\n",
       "      <td>42</td>\n",
       "      <td>223</td>\n",
       "      <td>90</td>\n",
       "    </tr>\n",
       "    <tr>\n",
       "      <td>2</td>\n",
       "      <td>neutral</td>\n",
       "      <td>37</td>\n",
       "      <td>15</td>\n",
       "      <td>141</td>\n",
       "      <td>57</td>\n",
       "      <td>141</td>\n",
       "      <td>57</td>\n",
       "    </tr>\n",
       "    <tr>\n",
       "      <td>3</td>\n",
       "      <td>satisfied</td>\n",
       "      <td>82</td>\n",
       "      <td>33</td>\n",
       "      <td>223</td>\n",
       "      <td>90</td>\n",
       "      <td>104</td>\n",
       "      <td>42</td>\n",
       "    </tr>\n",
       "    <tr>\n",
       "      <td>4</td>\n",
       "      <td>very satisfied</td>\n",
       "      <td>23</td>\n",
       "      <td>9</td>\n",
       "      <td>246</td>\n",
       "      <td>99</td>\n",
       "      <td>30</td>\n",
       "      <td>12</td>\n",
       "    </tr>\n",
       "  </tbody>\n",
       "</table>\n",
       "</div>"
      ],
      "text/plain": [
       "             answer  counts  percent  cumsum_asc  cumsum_asc_percent  \\\n",
       "0  very unsatisfied      30       12          30                  12   \n",
       "1       unsatisfied      74       30         104                  42   \n",
       "2           neutral      37       15         141                  57   \n",
       "3         satisfied      82       33         223                  90   \n",
       "4    very satisfied      23        9         246                  99   \n",
       "\n",
       "   cumsum_desc  cumsum_desc_percent  \n",
       "0          246                   99  \n",
       "1          223                   90  \n",
       "2          141                   57  \n",
       "3          104                   42  \n",
       "4           30                   12  "
      ]
     },
     "execution_count": 49,
     "metadata": {},
     "output_type": "execute_result"
    }
   ],
   "source": [
    "# 生成百分比\n",
    "df3_5['percent']=df3_5['counts']/df3_5.counts.sum()*100\n",
    "df3_5.percent=df3_5.percent.apply(round)\n",
    "\n",
    "# 向上累积\n",
    "df3_5['cumsum_asc']=np.cumsum(df3_5.counts)\n",
    "df3_5['cumsum_asc_percent']=np.cumsum(df3_5.percent)\n",
    "\n",
    "# 向下累积\n",
    "df3_5['cumsum_desc']=df3_5.cumsum_asc.sort_values(ascending=False).tolist()\n",
    "df3_5['cumsum_desc_percent']=df3_5.cumsum_asc_percent.sort_values(ascending=False).tolist()\n",
    "\n",
    "df3_5"
   ]
  },
  {
   "cell_type": "code",
   "execution_count": 62,
   "metadata": {},
   "outputs": [
    {
     "data": {
      "text/plain": [
       "[Text(0, 0, 'very unsatisfied'),\n",
       " Text(0, 0, 'unsatisfied'),\n",
       " Text(0, 0, 'neutral'),\n",
       " Text(0, 0, 'satisfied'),\n",
       " Text(0, 0, 'very satisfied')]"
      ]
     },
     "execution_count": 62,
     "metadata": {},
     "output_type": "execute_result"
    },
    {
     "data": {
      "image/png": "[encoded data removed]",
      "text/plain": [
       "<Figure size 720x432 with 2 Axes>"
      ]
     },
     "metadata": {
      "needs_background": "light"
     },
     "output_type": "display_data"
    }
   ],
   "source": [
    "fig,ax=plt.subplots(1,2,figsize=(10,6))\n",
    "df3_5.cumsum_asc.plot(ax=ax[0],marker='o')\n",
    "df3_5.cumsum_desc.plot(ax=ax[1],marker='o')\n",
    "ax[0].set_title('向上累积')\n",
    "ax[1].set_title('向下累积')\n",
    "ax[0].set_xticklabels(df3_5.answer,rotation=90)\n",
    "ax[1].set_xticklabels(df3_5.answer,rotation=90)"
   ]
  },
  {
   "cell_type": "markdown",
   "metadata": {},
   "source": [
    "# 数值型数据整理与可视化\n",
    "- 数据分组\n",
    "- 可视化\n",
    "\n",
    "## 数据分组\n",
    "1. 将变量值的一个区域作为一个组\n",
    "2. 适用于连续变量，且变量较多\n",
    "3. 遵循'不重不漏'原则\n",
    "4. 等距分组 VS 不等距分组\n",
    "\n",
    "分组步骤：\n",
    "1. 确定组数\n",
    "2. 确定组距\n",
    "$$\n",
    "组距=\\frac{max-min}{组数}\n",
    "$$\n",
    "3. 统计出各组频数并整理成频数分布表\n",
    "\n",
    "### 用pandas制作频数分布表\n",
    "`pd.cut()`\n",
    "\n",
    "- `bins`: 分组参数，int平均分组，list自定区间分组\n",
    "- `right`: 右边是否为闭区间"
   ]
  },
  {
   "cell_type": "code",
   "execution_count": 63,
   "metadata": {},
   "outputs": [
    {
     "data": {
      "text/html": [
       "<div>\n",
       "<style scoped>\n",
       "    .dataframe tbody tr th:only-of-type {\n",
       "        vertical-align: middle;\n",
       "    }\n",
       "\n",
       "    .dataframe tbody tr th {\n",
       "        vertical-align: top;\n",
       "    }\n",
       "\n",
       "    .dataframe thead th {\n",
       "        text-align: right;\n",
       "    }\n",
       "</style>\n",
       "<table border=\"1\" class=\"dataframe\">\n",
       "  <thead>\n",
       "    <tr style=\"text-align: right;\">\n",
       "      <th></th>\n",
       "      <th>销售量</th>\n",
       "    </tr>\n",
       "  </thead>\n",
       "  <tbody>\n",
       "    <tr>\n",
       "      <td>0</td>\n",
       "      <td>234</td>\n",
       "    </tr>\n",
       "    <tr>\n",
       "      <td>1</td>\n",
       "      <td>143</td>\n",
       "    </tr>\n",
       "    <tr>\n",
       "      <td>2</td>\n",
       "      <td>187</td>\n",
       "    </tr>\n",
       "    <tr>\n",
       "      <td>3</td>\n",
       "      <td>161</td>\n",
       "    </tr>\n",
       "    <tr>\n",
       "      <td>4</td>\n",
       "      <td>150</td>\n",
       "    </tr>\n",
       "  </tbody>\n",
       "</table>\n",
       "</div>"
      ],
      "text/plain": [
       "   销售量\n",
       "0  234\n",
       "1  143\n",
       "2  187\n",
       "3  161\n",
       "4  150"
      ]
     },
     "execution_count": 63,
     "metadata": {},
     "output_type": "execute_result"
    }
   ],
   "source": [
    "df3_6=pd.read_excel('例题数据/例3.6.xlsx')\n",
    "df3_6.head()"
   ]
  },
  {
   "cell_type": "code",
   "execution_count": 74,
   "metadata": {},
   "outputs": [
    {
     "data": {
      "text/html": [
       "<div>\n",
       "<style scoped>\n",
       "    .dataframe tbody tr th:only-of-type {\n",
       "        vertical-align: middle;\n",
       "    }\n",
       "\n",
       "    .dataframe tbody tr th {\n",
       "        vertical-align: top;\n",
       "    }\n",
       "\n",
       "    .dataframe thead th {\n",
       "        text-align: right;\n",
       "    }\n",
       "</style>\n",
       "<table border=\"1\" class=\"dataframe\">\n",
       "  <thead>\n",
       "    <tr style=\"text-align: right;\">\n",
       "      <th></th>\n",
       "      <th>频数</th>\n",
       "      <th>频率</th>\n",
       "    </tr>\n",
       "  </thead>\n",
       "  <tbody>\n",
       "    <tr>\n",
       "      <td>[140, 150)</td>\n",
       "      <td>4</td>\n",
       "      <td>0.034783</td>\n",
       "    </tr>\n",
       "    <tr>\n",
       "      <td>[150, 160)</td>\n",
       "      <td>9</td>\n",
       "      <td>0.078261</td>\n",
       "    </tr>\n",
       "    <tr>\n",
       "      <td>[160, 170)</td>\n",
       "      <td>16</td>\n",
       "      <td>0.139130</td>\n",
       "    </tr>\n",
       "    <tr>\n",
       "      <td>[170, 180)</td>\n",
       "      <td>27</td>\n",
       "      <td>0.234783</td>\n",
       "    </tr>\n",
       "    <tr>\n",
       "      <td>[180, 190)</td>\n",
       "      <td>20</td>\n",
       "      <td>0.173913</td>\n",
       "    </tr>\n",
       "    <tr>\n",
       "      <td>[190, 200)</td>\n",
       "      <td>17</td>\n",
       "      <td>0.147826</td>\n",
       "    </tr>\n",
       "    <tr>\n",
       "      <td>[200, 210)</td>\n",
       "      <td>10</td>\n",
       "      <td>0.086957</td>\n",
       "    </tr>\n",
       "    <tr>\n",
       "      <td>[210, 220)</td>\n",
       "      <td>8</td>\n",
       "      <td>0.069565</td>\n",
       "    </tr>\n",
       "    <tr>\n",
       "      <td>[220, 230)</td>\n",
       "      <td>4</td>\n",
       "      <td>0.034783</td>\n",
       "    </tr>\n",
       "  </tbody>\n",
       "</table>\n",
       "</div>"
      ],
      "text/plain": [
       "            频数        频率\n",
       "[140, 150)   4  0.034783\n",
       "[150, 160)   9  0.078261\n",
       "[160, 170)  16  0.139130\n",
       "[170, 180)  27  0.234783\n",
       "[180, 190)  20  0.173913\n",
       "[190, 200)  17  0.147826\n",
       "[200, 210)  10  0.086957\n",
       "[210, 220)   8  0.069565\n",
       "[220, 230)   4  0.034783"
      ]
     },
     "execution_count": 74,
     "metadata": {},
     "output_type": "execute_result"
    }
   ],
   "source": [
    "bins_data=pd.cut(df3_6['销售量'],bins=[i for i in range(140,240,10)],right=False).value_counts().sort_index()\n",
    "bins_counts=bins_data.values\n",
    "bins_df=pd.DataFrame({\n",
    "    '频数':bins_counts,\n",
    "    '频率':bins_counts/np.sum(bins_counts)\n",
    "},index=bins_data.index)\n",
    "bins_df"
   ]
  },
  {
   "cell_type": "markdown",
   "metadata": {},
   "source": [
    "## 数值型数据可视化\n",
    "- 分组数据\n",
    "    - 直方图(histogram)\n",
    "    - 茎叶图(stem)\n",
    "- 未分组数据\n",
    "    - 箱线图(box)\n",
    "- 时间序列\n",
    "    - 线图(line)\n",
    "- 多变量\n",
    " - 散点图\n",
    " - 气泡图\n",
    " - 雷达图"
   ]
  },
  {
   "cell_type": "markdown",
   "metadata": {},
   "source": [
    "### 分组数据：直方图\n",
    "- 用矩形的宽度和高度表示频数分布（本质上是矩形的面积）\n",
    "- 在直角坐标系中，用横轴表示数据分组，纵轴表示频数或频率，各组与相应频数就形成了一个矩形\n",
    "\n",
    "#### pandas实现直方图\n",
    "`ser.hist()`\n",
    "\n",
    "- `bins`:分箱参数"
   ]
  },
  {
   "cell_type": "code",
   "execution_count": 80,
   "metadata": {},
   "outputs": [
    {
     "data": {
      "text/plain": [
       "([<matplotlib.axis.XTick at 0x18e05b5eb48>,\n",
       "  <matplotlib.axis.XTick at 0x18e064cab88>,\n",
       "  <matplotlib.axis.XTick at 0x18e064c2e08>,\n",
       "  <matplotlib.axis.XTick at 0x18e05fcc048>,\n",
       "  <matplotlib.axis.XTick at 0x18e063ef308>,\n",
       "  <matplotlib.axis.XTick at 0x18e063ef648>,\n",
       "  <matplotlib.axis.XTick at 0x18e063ef788>,\n",
       "  <matplotlib.axis.XTick at 0x18e06489c48>,\n",
       "  <matplotlib.axis.XTick at 0x18e06489e88>,\n",
       "  <matplotlib.axis.XTick at 0x18e060cf648>],\n",
       " <a list of 10 Text xticklabel objects>)"
      ]
     },
     "execution_count": 80,
     "metadata": {},
     "output_type": "execute_result"
    },
    {
     "data": {
      "image/png": "[encoded data removed]",
      "text/plain": [
       "<Figure size 432x288 with 1 Axes>"
      ]
     },
     "metadata": {
      "needs_background": "light"
     },
     "output_type": "display_data"
    }
   ],
   "source": [
    "df3_6['销售量'].hist(bins=[i for i in range(140,240,10)])\n",
    "plt.xticks([i for i in range(140,240,10)])"
   ]
  },
  {
   "cell_type": "markdown",
   "metadata": {},
   "source": [
    "#### seaborn实现频数分布直方图\n",
    "\n",
    "更简单的方法\n",
    "`sns.distplot()`"
   ]
  },
  {
   "cell_type": "code",
   "execution_count": 81,
   "metadata": {},
   "outputs": [
    {
     "data": {
      "text/plain": [
       "<matplotlib.axes._subplots.AxesSubplot at 0x18e06260f48>"
      ]
     },
     "execution_count": 81,
     "metadata": {},
     "output_type": "execute_result"
    },
    {
     "data": {
      "image/png": "[encoded data removed]",
      "text/plain": [
       "<Figure size 432x288 with 1 Axes>"
      ]
     },
     "metadata": {
      "needs_background": "light"
     },
     "output_type": "display_data"
    }
   ],
   "source": [
    "sns.distplot(df3_6['销售量'])"
   ]
  },
  {
   "cell_type": "markdown",
   "metadata": {},
   "source": [
    "### 茎叶图\n",
    "\n",
    "[茎叶图解释](https://www.cnblogs.com/gispathfinder/p/5770080.html)\n",
    "\n",
    "#### python实现茎叶图"
   ]
  },
  {
   "cell_type": "code",
   "execution_count": 82,
   "metadata": {},
   "outputs": [
    {
     "name": "stdout",
     "output_type": "stream",
     "text": [
      "18 | 5 5\n",
      "19 | 5\n",
      "20 | 0 0 6\n",
      "21 | 0 5 7\n",
      "22 | 0 0 0 5 5 5 5 7\n",
      "23 | 0 2 2 5 6\n",
      "24 | 0 0 0 5 5\n",
      "25 | 2\n",
      "27 | 0 1\n"
     ]
    }
   ],
   "source": [
    "from itertools import groupby\n",
    "\n",
    "nums=df3_6['销售量'].tolist()\n",
    "for k, g in groupby(sorted(nums2), key=lambda x: int(x) // 10):\n",
    "    lst = map(str, [int(y) % 10 for y in list(g)])\n",
    "    print (k, '|', ' '.join(lst))"
   ]
  },
  {
   "cell_type": "markdown",
   "metadata": {},
   "source": [
    "### 箱线图\n",
    "- 显示未分组的原始数据\n",
    "- 由一组数据的5个特征值(min,25%,median,75%,max)组成，由一个箱子和两条线段组成"
   ]
  },
  {
   "cell_type": "code",
   "execution_count": 95,
   "metadata": {},
   "outputs": [
    {
     "data": {
      "text/plain": [
       "([<matplotlib.axis.XTick at 0x18e08f82e48>,\n",
       "  <matplotlib.axis.XTick at 0x18e08623a08>,\n",
       "  <matplotlib.axis.XTick at 0x18e08c234c8>,\n",
       "  <matplotlib.axis.XTick at 0x18e08f8a1c8>],\n",
       " <a list of 4 Text xticklabel objects>)"
      ]
     },
     "execution_count": 95,
     "metadata": {},
     "output_type": "execute_result"
    },
    {
     "data": {
      "image/png": "[encoded data removed]",
      "text/plain": [
       "<Figure size 432x288 with 1 Axes>"
      ]
     },
     "metadata": {
      "needs_background": "light"
     },
     "output_type": "display_data"
    }
   ],
   "source": [
    "# 每门课成绩的箱线图\n",
    "course_name=['统计学成绩','数学成绩','英语成绩','经济学成绩']\n",
    "plt.boxplot(df3_1[course_name].T)\n",
    "plt.xticks(range(1,5),labels=course_name,rotation=90)"
   ]
  },
  {
   "cell_type": "code",
   "execution_count": 99,
   "metadata": {},
   "outputs": [
    {
     "data": {
      "text/plain": [
       "([<matplotlib.axis.XTick at 0x18e08e04c88>,\n",
       "  <matplotlib.axis.XTick at 0x18e08e03648>,\n",
       "  <matplotlib.axis.XTick at 0x18e08dfac08>,\n",
       "  <matplotlib.axis.XTick at 0x18e08e211c8>,\n",
       "  <matplotlib.axis.XTick at 0x18e08ebd348>,\n",
       "  <matplotlib.axis.XTick at 0x18e08ec31c8>,\n",
       "  <matplotlib.axis.XTick at 0x18e08ec3a08>,\n",
       "  <matplotlib.axis.XTick at 0x18e08ec72c8>],\n",
       " <a list of 8 Text xticklabel objects>)"
      ]
     },
     "execution_count": 99,
     "metadata": {},
     "output_type": "execute_result"
    },
    {
     "data": {
      "image/png": "[encoded data removed]",
      "text/plain": [
       "<Figure size 432x288 with 1 Axes>"
      ]
     },
     "metadata": {
      "needs_background": "light"
     },
     "output_type": "display_data"
    }
   ],
   "source": [
    "# 每名学生成绩的箱线图\n",
    "plt.boxplot(df3_1.iloc[:,1:])\n",
    "plt.xticks(range(1,9))"
   ]
  },
  {
   "cell_type": "markdown",
   "metadata": {},
   "source": [
    "### 时间序列数据-线图\n",
    "- 表示时间序列数据趋势\n",
    "- 时间一般绘制在横轴，数据绘制在纵轴"
   ]
  },
  {
   "cell_type": "code",
   "execution_count": 107,
   "metadata": {},
   "outputs": [
    {
     "data": {
      "text/html": [
       "<div>\n",
       "<style scoped>\n",
       "    .dataframe tbody tr th:only-of-type {\n",
       "        vertical-align: middle;\n",
       "    }\n",
       "\n",
       "    .dataframe tbody tr th {\n",
       "        vertical-align: top;\n",
       "    }\n",
       "\n",
       "    .dataframe thead th {\n",
       "        text-align: right;\n",
       "    }\n",
       "</style>\n",
       "<table border=\"1\" class=\"dataframe\">\n",
       "  <thead>\n",
       "    <tr style=\"text-align: right;\">\n",
       "      <th></th>\n",
       "      <th>农村城镇消费水平</th>\n",
       "      <th>城镇居民消费水平</th>\n",
       "    </tr>\n",
       "    <tr>\n",
       "      <th>年份</th>\n",
       "      <th></th>\n",
       "      <th></th>\n",
       "    </tr>\n",
       "  </thead>\n",
       "  <tbody>\n",
       "    <tr>\n",
       "      <td>2006</td>\n",
       "      <td>3066</td>\n",
       "      <td>10739</td>\n",
       "    </tr>\n",
       "    <tr>\n",
       "      <td>2007</td>\n",
       "      <td>3538</td>\n",
       "      <td>12480</td>\n",
       "    </tr>\n",
       "    <tr>\n",
       "      <td>2008</td>\n",
       "      <td>4065</td>\n",
       "      <td>14061</td>\n",
       "    </tr>\n",
       "    <tr>\n",
       "      <td>2009</td>\n",
       "      <td>4402</td>\n",
       "      <td>15127</td>\n",
       "    </tr>\n",
       "    <tr>\n",
       "      <td>2010</td>\n",
       "      <td>4941</td>\n",
       "      <td>17104</td>\n",
       "    </tr>\n",
       "    <tr>\n",
       "      <td>2011</td>\n",
       "      <td>6187</td>\n",
       "      <td>19912</td>\n",
       "    </tr>\n",
       "    <tr>\n",
       "      <td>2012</td>\n",
       "      <td>6964</td>\n",
       "      <td>21861</td>\n",
       "    </tr>\n",
       "    <tr>\n",
       "      <td>2013</td>\n",
       "      <td>7773</td>\n",
       "      <td>23609</td>\n",
       "    </tr>\n",
       "    <tr>\n",
       "      <td>2014</td>\n",
       "      <td>8711</td>\n",
       "      <td>25424</td>\n",
       "    </tr>\n",
       "    <tr>\n",
       "      <td>2015</td>\n",
       "      <td>9679</td>\n",
       "      <td>27210</td>\n",
       "    </tr>\n",
       "  </tbody>\n",
       "</table>\n",
       "</div>"
      ],
      "text/plain": [
       "      农村城镇消费水平  城镇居民消费水平\n",
       "年份                      \n",
       "2006      3066     10739\n",
       "2007      3538     12480\n",
       "2008      4065     14061\n",
       "2009      4402     15127\n",
       "2010      4941     17104\n",
       "2011      6187     19912\n",
       "2012      6964     21861\n",
       "2013      7773     23609\n",
       "2014      8711     25424\n",
       "2015      9679     27210"
      ]
     },
     "execution_count": 107,
     "metadata": {},
     "output_type": "execute_result"
    }
   ],
   "source": [
    "df3_8=pd.read_excel('例题数据/例3.8.xlsx',index_col=0)\n",
    "df3_8"
   ]
  },
  {
   "cell_type": "code",
   "execution_count": 108,
   "metadata": {},
   "outputs": [
    {
     "data": {
      "text/plain": [
       "<matplotlib.axes._subplots.AxesSubplot at 0x18e08faadc8>"
      ]
     },
     "execution_count": 108,
     "metadata": {},
     "output_type": "execute_result"
    },
    {
     "data": {
      "image/png": "[encoded data removed]",
      "text/plain": [
       "<Figure size 432x288 with 1 Axes>"
      ]
     },
     "metadata": {
      "needs_background": "light"
     },
     "output_type": "display_data"
    }
   ],
   "source": [
    "df3_8.plot(style='-o')"
   ]
  },
  {
   "cell_type": "markdown",
   "metadata": {},
   "source": [
    "### 散点图\n",
    "- 用于表示两变量之间的关系"
   ]
  },
  {
   "cell_type": "code",
   "execution_count": 109,
   "metadata": {},
   "outputs": [
    {
     "data": {
      "text/html": [
       "<div>\n",
       "<style scoped>\n",
       "    .dataframe tbody tr th:only-of-type {\n",
       "        vertical-align: middle;\n",
       "    }\n",
       "\n",
       "    .dataframe tbody tr th {\n",
       "        vertical-align: top;\n",
       "    }\n",
       "\n",
       "    .dataframe thead th {\n",
       "        text-align: right;\n",
       "    }\n",
       "</style>\n",
       "<table border=\"1\" class=\"dataframe\">\n",
       "  <thead>\n",
       "    <tr style=\"text-align: right;\">\n",
       "      <th></th>\n",
       "      <th>温度</th>\n",
       "      <th>降雨量</th>\n",
       "      <th>产量</th>\n",
       "    </tr>\n",
       "  </thead>\n",
       "  <tbody>\n",
       "    <tr>\n",
       "      <td>0</td>\n",
       "      <td>6</td>\n",
       "      <td>25</td>\n",
       "      <td>2250</td>\n",
       "    </tr>\n",
       "    <tr>\n",
       "      <td>1</td>\n",
       "      <td>8</td>\n",
       "      <td>40</td>\n",
       "      <td>3450</td>\n",
       "    </tr>\n",
       "    <tr>\n",
       "      <td>2</td>\n",
       "      <td>10</td>\n",
       "      <td>58</td>\n",
       "      <td>4500</td>\n",
       "    </tr>\n",
       "    <tr>\n",
       "      <td>3</td>\n",
       "      <td>13</td>\n",
       "      <td>68</td>\n",
       "      <td>5750</td>\n",
       "    </tr>\n",
       "    <tr>\n",
       "      <td>4</td>\n",
       "      <td>14</td>\n",
       "      <td>110</td>\n",
       "      <td>5800</td>\n",
       "    </tr>\n",
       "    <tr>\n",
       "      <td>5</td>\n",
       "      <td>16</td>\n",
       "      <td>98</td>\n",
       "      <td>7500</td>\n",
       "    </tr>\n",
       "    <tr>\n",
       "      <td>6</td>\n",
       "      <td>21</td>\n",
       "      <td>120</td>\n",
       "      <td>8250</td>\n",
       "    </tr>\n",
       "  </tbody>\n",
       "</table>\n",
       "</div>"
      ],
      "text/plain": [
       "   温度  降雨量    产量\n",
       "0   6   25  2250\n",
       "1   8   40  3450\n",
       "2  10   58  4500\n",
       "3  13   68  5750\n",
       "4  14  110  5800\n",
       "5  16   98  7500\n",
       "6  21  120  8250"
      ]
     },
     "execution_count": 109,
     "metadata": {},
     "output_type": "execute_result"
    }
   ],
   "source": [
    "df3_9=pd.read_excel('例题数据/例3.9.xlsx')\n",
    "df3_9"
   ]
  },
  {
   "cell_type": "code",
   "execution_count": 112,
   "metadata": {},
   "outputs": [
    {
     "data": {
      "text/plain": [
       "<matplotlib.collections.PathCollection at 0x18e06744548>"
      ]
     },
     "execution_count": 112,
     "metadata": {},
     "output_type": "execute_result"
    },
    {
     "data": {
      "image/png": "[encoded data removed]",
      "text/plain": [
       "<Figure size 432x288 with 1 Axes>"
      ]
     },
     "metadata": {
      "needs_background": "light"
     },
     "output_type": "display_data"
    }
   ],
   "source": [
    "plt.scatter(df3_9['降雨量'],df3_9['产量'])"
   ]
  },
  {
   "cell_type": "markdown",
   "metadata": {},
   "source": [
    "### 三变量之间关系-气泡图\n",
    "- 图中气泡大小依赖于第三个变量"
   ]
  },
  {
   "cell_type": "code",
   "execution_count": 123,
   "metadata": {},
   "outputs": [
    {
     "data": {
      "text/plain": [
       "Text(0, 0.5, '温度')"
      ]
     },
     "execution_count": 123,
     "metadata": {},
     "output_type": "execute_result"
    },
    {
     "data": {
      "image/png": "[encoded data removed]",
      "text/plain": [
       "<Figure size 432x288 with 1 Axes>"
      ]
     },
     "metadata": {
      "needs_background": "light"
     },
     "output_type": "display_data"
    }
   ],
   "source": [
    "plt.scatter(df3_9['降雨量'],df3_9['温度'],s=df3_9['产量']*.08)\n",
    "plt.xlabel('降雨量')\n",
    "plt.ylabel('温度')"
   ]
  },
  {
   "cell_type": "markdown",
   "metadata": {},
   "source": [
    "### 雷达图\n",
    "\n",
    "- 显示多变量的图示方法\n",
    "- 用于对比各变量的数值总和时十分有用\n",
    "- 假定各变量的取值具有相同正负号，总的绝对值与图形所围成的区域成正比\n",
    "- 适合研究多个样本之间的相似度\n",
    "\n",
    "#### matplotlib实现雷达图\n",
    "[用matplotllib绘制雷达图](https://zhuanlan.zhihu.com/p/37104717)\n",
    "\n"
   ]
  },
  {
   "cell_type": "code",
   "execution_count": 142,
   "metadata": {},
   "outputs": [
    {
     "data": {
      "text/html": [
       "<div>\n",
       "<style scoped>\n",
       "    .dataframe tbody tr th:only-of-type {\n",
       "        vertical-align: middle;\n",
       "    }\n",
       "\n",
       "    .dataframe tbody tr th {\n",
       "        vertical-align: top;\n",
       "    }\n",
       "\n",
       "    .dataframe thead th {\n",
       "        text-align: right;\n",
       "    }\n",
       "</style>\n",
       "<table border=\"1\" class=\"dataframe\">\n",
       "  <thead>\n",
       "    <tr style=\"text-align: right;\">\n",
       "      <th>地区</th>\n",
       "      <th>北京</th>\n",
       "      <th>天津</th>\n",
       "      <th>上海</th>\n",
       "      <th>重庆</th>\n",
       "    </tr>\n",
       "  </thead>\n",
       "  <tbody>\n",
       "    <tr>\n",
       "      <td>食品支出</td>\n",
       "      <td>7535.3</td>\n",
       "      <td>7343.6</td>\n",
       "      <td>9655.6</td>\n",
       "      <td>6870.2</td>\n",
       "    </tr>\n",
       "    <tr>\n",
       "      <td>衣着支出</td>\n",
       "      <td>2638.9</td>\n",
       "      <td>1881.4</td>\n",
       "      <td>2111.2</td>\n",
       "      <td>2228.8</td>\n",
       "    </tr>\n",
       "    <tr>\n",
       "      <td>居住</td>\n",
       "      <td>1970.9</td>\n",
       "      <td>1854.2</td>\n",
       "      <td>1790.5</td>\n",
       "      <td>1177.0</td>\n",
       "    </tr>\n",
       "    <tr>\n",
       "      <td>家庭设备及用品</td>\n",
       "      <td>1610.7</td>\n",
       "      <td>1151.2</td>\n",
       "      <td>1906.5</td>\n",
       "      <td>1196.0</td>\n",
       "    </tr>\n",
       "    <tr>\n",
       "      <td>医疗保健</td>\n",
       "      <td>1658.4</td>\n",
       "      <td>1556.4</td>\n",
       "      <td>1016.7</td>\n",
       "      <td>1101.6</td>\n",
       "    </tr>\n",
       "    <tr>\n",
       "      <td>交通和通信</td>\n",
       "      <td>3781.5</td>\n",
       "      <td>3083.4</td>\n",
       "      <td>4563.8</td>\n",
       "      <td>1903.2</td>\n",
       "    </tr>\n",
       "    <tr>\n",
       "      <td>文教娱乐服务</td>\n",
       "      <td>3696.0</td>\n",
       "      <td>2254.2</td>\n",
       "      <td>3723.7</td>\n",
       "      <td>1470.6</td>\n",
       "    </tr>\n",
       "    <tr>\n",
       "      <td>其他</td>\n",
       "      <td>1154.2</td>\n",
       "      <td>899.9</td>\n",
       "      <td>1485.5</td>\n",
       "      <td>625.7</td>\n",
       "    </tr>\n",
       "  </tbody>\n",
       "</table>\n",
       "</div>"
      ],
      "text/plain": [
       "地区           北京      天津      上海      重庆\n",
       "食品支出     7535.3  7343.6  9655.6  6870.2\n",
       "衣着支出     2638.9  1881.4  2111.2  2228.8\n",
       "居住       1970.9  1854.2  1790.5  1177.0\n",
       "家庭设备及用品  1610.7  1151.2  1906.5  1196.0\n",
       "医疗保健     1658.4  1556.4  1016.7  1101.6\n",
       "交通和通信    3781.5  3083.4  4563.8  1903.2\n",
       "文教娱乐服务   3696.0  2254.2  3723.7  1470.6\n",
       "其他       1154.2   899.9  1485.5   625.7"
      ]
     },
     "execution_count": 142,
     "metadata": {},
     "output_type": "execute_result"
    }
   ],
   "source": [
    "df3_4=pd.read_excel('例题数据/例3.4.xlsx',skiprows=1,index_col=0)\n",
    "df3_4.T"
   ]
  },
  {
   "cell_type": "code",
   "execution_count": 140,
   "metadata": {},
   "outputs": [
    {
     "data": {
      "text/plain": [
       "[<matplotlib.lines.Line2D at 0x18e0c29c188>]"
      ]
     },
     "execution_count": 140,
     "metadata": {},
     "output_type": "execute_result"
    },
    {
     "data": {
      "image/png": "[encoded data removed]",
      "text/plain": [
       "<Figure size 720x576 with 1 Axes>"
      ]
     },
     "metadata": {
      "needs_background": "light"
     },
     "output_type": "display_data"
    }
   ],
   "source": [
    "plt.figure(figsize=(10,8))\n",
    "theta = np.array([0.25,0.75,1,1.5,.25])\n",
    "r = [20,60,40,80,20]\n",
    "plt.polar(theta*np.pi,r,'ro-',lw=2)"
   ]
  },
  {
   "cell_type": "code",
   "execution_count": 167,
   "metadata": {},
   "outputs": [
    {
     "data": {
      "image/png": "[encoded data removed]",
      "text/plain": [
       "<Figure size 432x288 with 1 Axes>"
      ]
     },
     "metadata": {
      "needs_background": "light"
     },
     "output_type": "display_data"
    }
   ],
   "source": [
    "beijing=df3_4.T['北京'].values\n",
    "\n",
    "name =df3_4.T.index   #标签\n",
    "theta = np.linspace(0,2*np.pi,len(name),endpoint=False)    #将圆根据标签的个数等比分\n",
    "theta = np.concatenate((theta,[theta[0]]))  #闭合\n",
    "beijing = np.concatenate((beijing,[beijing[0]]))  #闭合\n",
    "\n",
    "ax = plt.subplot(111,projection = 'polar')      #构建图例\n",
    "ax.plot(theta,beijing,'o-',lw=1,alpha = 0.75)    #绘图\n",
    "ax.set_thetagrids(theta*180/np.pi,name)         #替换标签\n",
    "ax.set_ylim(1000,8000)                          #设置极轴的区间\n",
    "ax.set_theta_zero_location('N')         #设置极轴方向"
   ]
  },
  {
   "cell_type": "code",
   "execution_count": 178,
   "metadata": {},
   "outputs": [
    {
     "data": {
      "text/plain": [
       "Text(0.5, 1.05, '天津')"
      ]
     },
     "execution_count": 178,
     "metadata": {},
     "output_type": "execute_result"
    },
    {
     "data": {
      "image/png": "[encoded data removed]",
      "text/plain": [
       "<Figure size 720x576 with 2 Axes>"
      ]
     },
     "metadata": {
      "needs_background": "light"
     },
     "output_type": "display_data"
    }
   ],
   "source": [
    "plt.figure(figsize=(10,8))\n",
    "\n",
    "name =df3_4.T.index   #标签\n",
    "theta = np.linspace(0,2*np.pi,len(name),endpoint=False)    #将圆根据标签的个数等比分\n",
    "theta = np.concatenate((theta,[theta[0]]))  #闭合\n",
    "\n",
    "theta = np.linspace(0,2*np.pi,len(name),endpoint=False)    #将圆根据标签的个数等比分\n",
    "theta = np.concatenate((theta,[theta[0]]))  #闭合\n",
    "beijing=df3_4.T['北京'].values\n",
    "beijing = np.concatenate((beijing,[beijing[0]]))  #闭合\n",
    "\n",
    "ax=plt.subplot(221,projection='polar')\n",
    "ax.plot(theta,beijing,'o-',lw=1,alpha = 0.75)    #绘图\n",
    "ax.set_thetagrids(theta*180/np.pi,name)         #替换标签\n",
    "ax.set_ylim(1000,8000)                          #设置极轴的区间\n",
    "ax.set_theta_zero_location('N')         #设置极轴方向\n",
    "ax.set_title('北京')\n",
    "\n",
    "tianjin=df3_4.T['天津'].values\n",
    "tianjin=np.concatenate([tianjin,[tianjin[0]]])\n",
    "\n",
    "ax=plt.subplot(222,projection='polar')\n",
    "ax.plot(theta,tianjin,'o-',lw=1,alpha = 0.75)    #绘图\n",
    "ax.set_thetagrids(theta*180/np.pi,name)         #替换标签\n",
    "ax.set_ylim(1000,8000)                          #设置极轴的区间\n",
    "ax.set_theta_zero_location('N')         #设置极轴方向\n",
    "ax.set_title('天津')"
   ]
  }
 ],
 "metadata": {
  "kernelspec": {
   "display_name": "Python 3",
   "language": "python",
   "name": "python3"
  },
  "language_info": {
   "codemirror_mode": {
    "name": "ipython",
    "version": 3
   },
   "file_extension": ".py",
   "mimetype": "text/x-python",
   "name": "python",
   "nbconvert_exporter": "python",
   "pygments_lexer": "ipython3",
   "version": "3.7.4"
  }
 },
 "nbformat": 4,
 "nbformat_minor": 4
}
